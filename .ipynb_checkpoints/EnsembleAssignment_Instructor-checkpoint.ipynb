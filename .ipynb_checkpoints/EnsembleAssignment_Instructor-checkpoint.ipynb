{
 "cells": [
  {
   "cell_type": "markdown",
   "metadata": {
    "id": "2PO8PExZwsGd",
    "nbgrader": {
     "grade": false,
     "grade_id": "cell-07f7a8784a17e6a5",
     "locked": true,
     "schema_version": 3,
     "solution": false,
     "task": false
    }
   },
   "source": [
    "# AirBnB guest arrival prediction using tree-based methods\n",
    "\n",
    "\n",
    "\n",
    "<b><div style=\"text-align: right\">[TOTAL POINTS: 9]</div></b>\n",
    "\n",
    "The assignment is divided into three different levels: Level1, Level2, and Level3.\n",
    "\n",
    "## Learning Objective(Level 1)\n",
    "\n",
    "<b><div style=\"text-align: right\">[POINTS: 4]</div></b>\n",
    "\n",
    "By the end of this assignment, a student should be able to\n",
    "\n",
    "- Apply necessary preprocessing steps on the data to make it suitable for training.\n",
    "\n",
    "- Train Bagging Classifier, Random Forest Classifier, XGBoost Classifier.\n",
    "\n",
    "- Fine-tune and monitor the performance of XGBoost.\n",
    "\n",
    "\n",
    "\n",
    "Let's start with the problem description of level1.\n",
    "In this assignment, you will train different ensemble models to predict whether the customer will cancel the booking or not. For a tourism-based country like Nepal, hospitality is a major source of income. The given data represents booking information made by foreign customers via AirBnB for the year 2018. Your task in level1 is to use this data to predict whether the customer will cancel the booking or not.\n"
   ]
  },
  {
   "cell_type": "markdown",
   "metadata": {
    "id": "Epa9-UlFwsGi",
    "nbgrader": {
     "grade": false,
     "grade_id": "cell-efbfcf6cef60da2e",
     "locked": true,
     "schema_version": 3,
     "solution": false,
     "task": false
    }
   },
   "source": [
    "## Dataset Description:\n",
    "\n",
    "The dataset, **AirBnB customer arrival prediction**, contains information regarding booking in the hotel, and includes features like such as meal, arrival date(date of booking), car parking space in hotel, etc. All features are listed below.\n",
    "\n",
    "Note: The given dataset is a modification of [Hotel booking demand datasets](https://www.sciencedirect.com/science/article/pii/S2352340918315191) collected by **Nuano et al.** and is availabe under [Creative Commons 4.0](https://creativecommons.org/licenses/by/4.0/).\n",
    "\n",
    "**Number of Instances:** 119,386 \\\n",
    "**Number of Attributes:** 25 **Input Features** + 1 **Target**(__is_canceled__)\n",
    "\n",
    "### Attribute Information:\n",
    "The detail information of each attribute is listed as:\n",
    "\n",
    "* **hotel** - Type of hotel resort or city\n",
    "* **is_canceled** - The label column. This indicates whether the guests canceled their booking or they checked-in\n",
    "* **lead_time** - Number of days that elapsed between the entering date of the booking into the PMS and the arrival date\n",
    "* **arrival_date_year** - year of the arrival date\n",
    "* **arrival_date_month** - Month of arrival date with 12 categories: “January” to “December” expressed in numbers. 1 indicates January, and 12 indicate December. \n",
    "* **arrival_date_week_number** - Week number of the arrival date\n",
    "* **arrival_date_day_of_month** - Day of the month of the arrival date\n",
    "* **stays_in_weekend_nights** - Number of weekend nights (Saturday or Sunday) the guest stayed or booked to stay at the hotel.\n",
    "* **stays_in_week_nights** - Number of week nights (Monday to Friday) the guest stayed or booked to stay at the hotel\n",
    "* **meal** - Type of meal booked. \n",
    "* **country** - Country of origin. Categories are represented in the ISO 3155–3:2013 format\n",
    "* **market_segment** - Market segment designation. In categories, the term \"TA\" means \"Travel Agents\" and \"TO\" means \"Tour Operators\"\n",
    "* **distribution_channel** - Booking distribution channel. The term \"TA\" means \"Travel Agents\" and \"TO\" means \"Tour Operators\"\n",
    "* **is_repeated_guest** - Value indicating if the booking name was from a repeated guest (1) or not (0)\n",
    "* **reserved_room_type** - Code of room type reserved. \n",
    "* **assigned_room_type** - Code for the type of room assigned to the booking. Sometimes the assigned room type differs from the reserved room type due to hotel operation reasons (e.g., overbooking) or by customer request.\n",
    "* **booking_changes** - Number of changes/amendments made to the booking from the moment the booking was entered on the PMS until the moment of check-in or cancellation\n",
    "* **deposit_type** - Indication on if the customer deposited to guarantee the booking.\n",
    "* **agent** - ID of the travel agency that made the booking\n",
    "* **days_in_waiting_list** - Number of days the booking was on the waiting list before it was confirmed to the customer. \n",
    "* **customer_type** - Type of booking. One of Contract, Group, Transient, and Transient-party.\n",
    "* **adr** - Average Daily Rate\n",
    "* **required_car_parking_spaces** - Number of car parking spaces required by the customer.\n",
    "* **total_of_special_requests** - Number of special requests made by the customer (e.g. twin bed or high floor)\n",
    "* **total_guests** - Total number of guests(includes adults, children, and babies)\n",
    "* **net_booking_cancelled** - A difference between the total number of the previous booking canceled and the previous booking not canceled before this booking. A positive value means that the customer did not cancel most of the previous booking."
   ]
  },
  {
   "cell_type": "markdown",
   "metadata": {
    "id": "VssZ8Kf_wsGm",
    "nbgrader": {
     "grade": false,
     "grade_id": "cell-1376b6668cc0b7e3",
     "locked": true,
     "schema_version": 3,
     "solution": false,
     "task": false
    }
   },
   "source": [
    "### Import libraries"
   ]
  },
  {
   "cell_type": "code",
   "execution_count": null,
   "metadata": {
    "id": "XM9q2-0ZwsGp",
    "nbgrader": {
     "grade": false,
     "grade_id": "cell-8aaadd6d8208e92f",
     "locked": true,
     "schema_version": 3,
     "solution": false,
     "task": false
    }
   },
   "outputs": [],
   "source": [
    "import pandas as pd\n",
    "import numpy as np\n",
    "import pickle\n",
    "from matplotlib import pyplot as plt\n",
    "\n",
    "RANDOM_STATE = 7\n",
    "np.random.seed(RANDOM_STATE)"
   ]
  },
  {
   "cell_type": "markdown",
   "metadata": {
    "id": "pEDgsWu_wsG5",
    "nbgrader": {
     "grade": false,
     "grade_id": "cell-24b969ae9447e0d8",
     "locked": true,
     "schema_version": 3,
     "solution": false,
     "task": false
    }
   },
   "source": [
    "### Load csv file"
   ]
  },
  {
   "cell_type": "code",
   "execution_count": null,
   "metadata": {
    "colab": {
     "base_uri": "https://localhost:8080/",
     "height": 386
    },
    "id": "_ELsyzGxwsG7",
    "nbgrader": {
     "grade": false,
     "grade_id": "cell-e94bfbaf67531051",
     "locked": true,
     "schema_version": 3,
     "solution": false,
     "task": false
    },
    "outputId": "0cbc1d62-eebb-42d1-d8e6-3694b64918e0",
    "scrolled": false
   },
   "outputs": [
    {
     "data": {
      "text/html": [
       "<div>\n",
       "<style scoped>\n",
       "    .dataframe tbody tr th:only-of-type {\n",
       "        vertical-align: middle;\n",
       "    }\n",
       "\n",
       "    .dataframe tbody tr th {\n",
       "        vertical-align: top;\n",
       "    }\n",
       "\n",
       "    .dataframe thead th {\n",
       "        text-align: right;\n",
       "    }\n",
       "</style>\n",
       "<table border=\"1\" class=\"dataframe\">\n",
       "  <thead>\n",
       "    <tr style=\"text-align: right;\">\n",
       "      <th></th>\n",
       "      <th>hotel</th>\n",
       "      <th>is_canceled</th>\n",
       "      <th>lead_time</th>\n",
       "      <th>arrival_date_year</th>\n",
       "      <th>arrival_date_month</th>\n",
       "      <th>arrival_date_week_number</th>\n",
       "      <th>arrival_date_day_of_month</th>\n",
       "      <th>stays_in_weekend_nights</th>\n",
       "      <th>stays_in_week_nights</th>\n",
       "      <th>meal</th>\n",
       "      <th>...</th>\n",
       "      <th>booking_changes</th>\n",
       "      <th>deposit_type</th>\n",
       "      <th>agent</th>\n",
       "      <th>days_in_waiting_list</th>\n",
       "      <th>customer_type</th>\n",
       "      <th>adr</th>\n",
       "      <th>required_car_parking_spaces</th>\n",
       "      <th>total_of_special_requests</th>\n",
       "      <th>total_guests</th>\n",
       "      <th>net_booking_cancelled</th>\n",
       "    </tr>\n",
       "  </thead>\n",
       "  <tbody>\n",
       "    <tr>\n",
       "      <th>0</th>\n",
       "      <td>Resort Hotel</td>\n",
       "      <td>0</td>\n",
       "      <td>342</td>\n",
       "      <td>2015</td>\n",
       "      <td>July</td>\n",
       "      <td>27</td>\n",
       "      <td>1</td>\n",
       "      <td>0</td>\n",
       "      <td>0</td>\n",
       "      <td>NaN</td>\n",
       "      <td>...</td>\n",
       "      <td>3</td>\n",
       "      <td>No Deposit</td>\n",
       "      <td>NaN</td>\n",
       "      <td>0</td>\n",
       "      <td>Transient</td>\n",
       "      <td>0.0</td>\n",
       "      <td>0</td>\n",
       "      <td>0</td>\n",
       "      <td>2.0</td>\n",
       "      <td>0</td>\n",
       "    </tr>\n",
       "    <tr>\n",
       "      <th>1</th>\n",
       "      <td>Resort Hotel</td>\n",
       "      <td>0</td>\n",
       "      <td>737</td>\n",
       "      <td>2015</td>\n",
       "      <td>July</td>\n",
       "      <td>27</td>\n",
       "      <td>1</td>\n",
       "      <td>0</td>\n",
       "      <td>0</td>\n",
       "      <td>BB</td>\n",
       "      <td>...</td>\n",
       "      <td>4</td>\n",
       "      <td>No Deposit</td>\n",
       "      <td>NaN</td>\n",
       "      <td>0</td>\n",
       "      <td>Transient</td>\n",
       "      <td>0.0</td>\n",
       "      <td>0</td>\n",
       "      <td>0</td>\n",
       "      <td>2.0</td>\n",
       "      <td>0</td>\n",
       "    </tr>\n",
       "    <tr>\n",
       "      <th>2</th>\n",
       "      <td>Resort Hotel</td>\n",
       "      <td>0</td>\n",
       "      <td>7</td>\n",
       "      <td>2015</td>\n",
       "      <td>July</td>\n",
       "      <td>27</td>\n",
       "      <td>1</td>\n",
       "      <td>0</td>\n",
       "      <td>1</td>\n",
       "      <td>BB</td>\n",
       "      <td>...</td>\n",
       "      <td>0</td>\n",
       "      <td>No Deposit</td>\n",
       "      <td>NaN</td>\n",
       "      <td>0</td>\n",
       "      <td>Transient</td>\n",
       "      <td>75.0</td>\n",
       "      <td>0</td>\n",
       "      <td>0</td>\n",
       "      <td>1.0</td>\n",
       "      <td>0</td>\n",
       "    </tr>\n",
       "    <tr>\n",
       "      <th>3</th>\n",
       "      <td>Resort Hotel</td>\n",
       "      <td>0</td>\n",
       "      <td>13</td>\n",
       "      <td>2015</td>\n",
       "      <td>July</td>\n",
       "      <td>27</td>\n",
       "      <td>1</td>\n",
       "      <td>0</td>\n",
       "      <td>1</td>\n",
       "      <td>NaN</td>\n",
       "      <td>...</td>\n",
       "      <td>0</td>\n",
       "      <td>No Deposit</td>\n",
       "      <td>304.0</td>\n",
       "      <td>0</td>\n",
       "      <td>Transient</td>\n",
       "      <td>75.0</td>\n",
       "      <td>0</td>\n",
       "      <td>0</td>\n",
       "      <td>1.0</td>\n",
       "      <td>0</td>\n",
       "    </tr>\n",
       "    <tr>\n",
       "      <th>4</th>\n",
       "      <td>Resort Hotel</td>\n",
       "      <td>0</td>\n",
       "      <td>14</td>\n",
       "      <td>2015</td>\n",
       "      <td>July</td>\n",
       "      <td>27</td>\n",
       "      <td>1</td>\n",
       "      <td>0</td>\n",
       "      <td>2</td>\n",
       "      <td>BB</td>\n",
       "      <td>...</td>\n",
       "      <td>0</td>\n",
       "      <td>No Deposit</td>\n",
       "      <td>240.0</td>\n",
       "      <td>0</td>\n",
       "      <td>Transient</td>\n",
       "      <td>98.0</td>\n",
       "      <td>0</td>\n",
       "      <td>1</td>\n",
       "      <td>2.0</td>\n",
       "      <td>0</td>\n",
       "    </tr>\n",
       "  </tbody>\n",
       "</table>\n",
       "<p>5 rows × 26 columns</p>\n",
       "</div>"
      ],
      "text/plain": [
       "          hotel  is_canceled  lead_time  arrival_date_year arrival_date_month  \\\n",
       "0  Resort Hotel            0        342               2015               July   \n",
       "1  Resort Hotel            0        737               2015               July   \n",
       "2  Resort Hotel            0          7               2015               July   \n",
       "3  Resort Hotel            0         13               2015               July   \n",
       "4  Resort Hotel            0         14               2015               July   \n",
       "\n",
       "   arrival_date_week_number  arrival_date_day_of_month  \\\n",
       "0                        27                          1   \n",
       "1                        27                          1   \n",
       "2                        27                          1   \n",
       "3                        27                          1   \n",
       "4                        27                          1   \n",
       "\n",
       "   stays_in_weekend_nights  stays_in_week_nights meal  ... booking_changes  \\\n",
       "0                        0                     0  NaN  ...               3   \n",
       "1                        0                     0   BB  ...               4   \n",
       "2                        0                     1   BB  ...               0   \n",
       "3                        0                     1  NaN  ...               0   \n",
       "4                        0                     2   BB  ...               0   \n",
       "\n",
       "  deposit_type  agent  days_in_waiting_list customer_type   adr  \\\n",
       "0   No Deposit    NaN                     0     Transient   0.0   \n",
       "1   No Deposit    NaN                     0     Transient   0.0   \n",
       "2   No Deposit    NaN                     0     Transient  75.0   \n",
       "3   No Deposit  304.0                     0     Transient  75.0   \n",
       "4   No Deposit  240.0                     0     Transient  98.0   \n",
       "\n",
       "   required_car_parking_spaces total_of_special_requests  total_guests  \\\n",
       "0                            0                         0           2.0   \n",
       "1                            0                         0           2.0   \n",
       "2                            0                         0           1.0   \n",
       "3                            0                         0           1.0   \n",
       "4                            0                         1           2.0   \n",
       "\n",
       "   net_booking_cancelled  \n",
       "0                      0  \n",
       "1                      0  \n",
       "2                      0  \n",
       "3                      0  \n",
       "4                      0  \n",
       "\n",
       "[5 rows x 26 columns]"
      ]
     },
     "execution_count": 2,
     "metadata": {},
     "output_type": "execute_result"
    }
   ],
   "source": [
    "df= pd.read_csv(\"https://drive.google.com/uc?id=1Gqk7mPLeXlx7mo8iQZM0TpcNmnyFa-LD\", index_col = 0)\n",
    "df.head()"
   ]
  },
  {
   "cell_type": "markdown",
   "metadata": {
    "id": "-PYR9djVwsHG",
    "nbgrader": {
     "grade": false,
     "grade_id": "cell-6b18126a4854d153",
     "locked": true,
     "schema_version": 3,
     "solution": false,
     "task": false
    }
   },
   "source": [
    "## Preprocessing\n",
    "### Identification of features with missing values\n",
    "Let's find out if the columns in our dataset has any misssing values."
   ]
  },
  {
   "cell_type": "code",
   "execution_count": null,
   "metadata": {
    "id": "Rkd1RjvSwsHI",
    "nbgrader": {
     "grade": false,
     "grade_id": "cell-b4b33f9f363968d7",
     "locked": true,
     "schema_version": 3,
     "solution": false,
     "task": false
    },
    "outputId": "dafc649d-0551-48d4-a0af-fca2e8aa28c4",
    "scrolled": false
   },
   "outputs": [
    {
     "data": {
      "text/plain": [
       "hotel                              0\n",
       "is_canceled                        0\n",
       "lead_time                          0\n",
       "arrival_date_year                  0\n",
       "arrival_date_month                 0\n",
       "arrival_date_week_number           0\n",
       "arrival_date_day_of_month          0\n",
       "stays_in_weekend_nights            0\n",
       "stays_in_week_nights               0\n",
       "meal                           11939\n",
       "country                          488\n",
       "market_segment                     0\n",
       "distribution_channel           11939\n",
       "is_repeated_guest                  0\n",
       "reserved_room_type                 0\n",
       "assigned_room_type             11939\n",
       "booking_changes                    0\n",
       "deposit_type                       0\n",
       "agent                          16340\n",
       "days_in_waiting_list               0\n",
       "customer_type                      0\n",
       "adr                                0\n",
       "required_car_parking_spaces        0\n",
       "total_of_special_requests          0\n",
       "total_guests                       4\n",
       "net_booking_cancelled              0\n",
       "dtype: int64"
      ]
     },
     "execution_count": 3,
     "metadata": {},
     "output_type": "execute_result"
    }
   ],
   "source": [
    "df.isnull().sum()"
   ]
  },
  {
   "cell_type": "markdown",
   "metadata": {
    "id": "oY3mhFEOwsHQ",
    "nbgrader": {
     "grade": false,
     "grade_id": "cell-0fa66ac9d0129824",
     "locked": true,
     "schema_version": 3,
     "solution": false,
     "task": false
    }
   },
   "source": [
    "We can see that columns `agent`, `assigned_room_type`, `distribution_channel`, `meal`, `country`, and `total_guests` have missing values.\n",
    "\n",
    "Since only four instances in the column `total_guests` have missing value, we will drop them."
   ]
  },
  {
   "cell_type": "code",
   "execution_count": null,
   "metadata": {
    "id": "UKdOTd4BwsHS",
    "nbgrader": {
     "grade": false,
     "grade_id": "cell-0658ae9dff5838f4",
     "locked": true,
     "schema_version": 3,
     "solution": false,
     "task": false
    }
   },
   "outputs": [],
   "source": [
    "# removing all rows that have missing values in total_guests column\n",
    "df.dropna(how='any', subset=['total_guests'], inplace=True)"
   ]
  },
  {
   "cell_type": "markdown",
   "metadata": {
    "id": "85mnhFDXwsHb",
    "nbgrader": {
     "grade": false,
     "grade_id": "cell-86c773ad37636294",
     "locked": true,
     "schema_version": 3,
     "solution": false,
     "task": false
    }
   },
   "source": [
    "We will impute rest of the features with mode."
   ]
  },
  {
   "cell_type": "code",
   "execution_count": null,
   "metadata": {
    "id": "WVSifF4qwsHc",
    "nbgrader": {
     "grade": false,
     "grade_id": "cell-ba231c76e63aebc1",
     "locked": true,
     "schema_version": 3,
     "solution": false,
     "task": false
    }
   },
   "outputs": [],
   "source": [
    "missing_features = ['agent', 'assigned_room_type', 'distribution_channel', 'meal', 'country']\n",
    "for feature in missing_features:\n",
    "    df[feature].fillna(df[feature].mode()[0], inplace = True)"
   ]
  },
  {
   "cell_type": "markdown",
   "metadata": {
    "id": "RQEJ1XRCwsHl",
    "nbgrader": {
     "grade": false,
     "grade_id": "cell-9c70daa05ee0fc45",
     "locked": true,
     "schema_version": 3,
     "solution": false,
     "task": false
    }
   },
   "source": [
    "Until now, we have imputed all the missing values in the dataset."
   ]
  },
  {
   "cell_type": "markdown",
   "metadata": {
    "id": "LYANbhhZwsHm",
    "nbgrader": {
     "grade": false,
     "grade_id": "cell-034cdf27d4021ee4",
     "locked": true,
     "schema_version": 3,
     "solution": false,
     "task": false
    }
   },
   "source": [
    "### Feature generation\n",
    "\n",
    "Here we will combine features `arrival_date_month` and `arrival_date_year` to generate a new feature `month`."
   ]
  },
  {
   "cell_type": "code",
   "execution_count": null,
   "metadata": {
    "id": "AeWZtrUJwsHn",
    "nbgrader": {
     "grade": false,
     "grade_id": "cell-b608b12ac2d9d2d4",
     "locked": true,
     "schema_version": 3,
     "solution": false,
     "task": false
    },
    "outputId": "0572c5bc-b890-4ffb-80f3-9fe2b31419c2"
   },
   "outputs": [
    {
     "data": {
      "text/plain": [
       "array([2015, 2016, 2017])"
      ]
     },
     "execution_count": 6,
     "metadata": {},
     "output_type": "execute_result"
    }
   ],
   "source": [
    "df['arrival_date_year'].unique()"
   ]
  },
  {
   "cell_type": "code",
   "execution_count": null,
   "metadata": {
    "id": "_ZXwBZH7wsHu",
    "nbgrader": {
     "grade": false,
     "grade_id": "cell-af60eb808bab599d",
     "locked": true,
     "schema_version": 3,
     "solution": false,
     "task": false
    },
    "outputId": "10bfdc83-9cdd-4392-965e-3b48893f3c8d",
    "scrolled": true
   },
   "outputs": [
    {
     "data": {
      "text/plain": [
       "array(['July', 'August', 'September', 'October', 'November', 'December',\n",
       "       'January', 'February', 'March', 'April', 'May', 'June'],\n",
       "      dtype=object)"
      ]
     },
     "execution_count": 7,
     "metadata": {},
     "output_type": "execute_result"
    }
   ],
   "source": [
    "df['arrival_date_month'].unique()"
   ]
  },
  {
   "cell_type": "markdown",
   "metadata": {
    "id": "dIPIGG8LwsH1",
    "nbgrader": {
     "grade": false,
     "grade_id": "cell-40928221e2b7bd58",
     "locked": true,
     "schema_version": 3,
     "solution": false,
     "task": false
    }
   },
   "source": [
    "In the feature `month`,  we will consider Jan, 2015 as 0, Feb, 2015 as 1, and so on. So this feature will represent the month number starting from Jan, 2015."
   ]
  },
  {
   "cell_type": "code",
   "execution_count": null,
   "metadata": {
    "id": "beVp5g3ZwsH2",
    "nbgrader": {
     "grade": false,
     "grade_id": "cell-dad3284a72cc9d72",
     "locked": true,
     "schema_version": 3,
     "solution": false,
     "task": false
    }
   },
   "outputs": [],
   "source": [
    "replace_year = {2015:0, 2016: 12, 2017:24}\n",
    "replace_month= {'Januray':0, 'February': 1, 'March': 2, 'April': 3, 'May': 4, 'June': 5, 'July': 6, 'August': 7, 'September': 8, 'October': 9, 'November': 10, 'December': 11}"
   ]
  },
  {
   "cell_type": "code",
   "execution_count": null,
   "metadata": {
    "id": "L3Q3b4atwsH9",
    "nbgrader": {
     "grade": false,
     "grade_id": "cell-d6b991b3165c322e",
     "locked": true,
     "schema_version": 3,
     "solution": false,
     "task": false
    },
    "outputId": "f612cdf1-09fc-41b9-c03c-962357d1365b",
    "scrolled": true
   },
   "outputs": [
    {
     "data": {
      "text/html": [
       "<div>\n",
       "<style scoped>\n",
       "    .dataframe tbody tr th:only-of-type {\n",
       "        vertical-align: middle;\n",
       "    }\n",
       "\n",
       "    .dataframe tbody tr th {\n",
       "        vertical-align: top;\n",
       "    }\n",
       "\n",
       "    .dataframe thead th {\n",
       "        text-align: right;\n",
       "    }\n",
       "</style>\n",
       "<table border=\"1\" class=\"dataframe\">\n",
       "  <thead>\n",
       "    <tr style=\"text-align: right;\">\n",
       "      <th></th>\n",
       "      <th>hotel</th>\n",
       "      <th>is_canceled</th>\n",
       "      <th>lead_time</th>\n",
       "      <th>arrival_date_year</th>\n",
       "      <th>arrival_date_month</th>\n",
       "      <th>arrival_date_week_number</th>\n",
       "      <th>arrival_date_day_of_month</th>\n",
       "      <th>stays_in_weekend_nights</th>\n",
       "      <th>stays_in_week_nights</th>\n",
       "      <th>meal</th>\n",
       "      <th>...</th>\n",
       "      <th>deposit_type</th>\n",
       "      <th>agent</th>\n",
       "      <th>days_in_waiting_list</th>\n",
       "      <th>customer_type</th>\n",
       "      <th>adr</th>\n",
       "      <th>required_car_parking_spaces</th>\n",
       "      <th>total_of_special_requests</th>\n",
       "      <th>total_guests</th>\n",
       "      <th>net_booking_cancelled</th>\n",
       "      <th>month</th>\n",
       "    </tr>\n",
       "  </thead>\n",
       "  <tbody>\n",
       "    <tr>\n",
       "      <th>0</th>\n",
       "      <td>Resort Hotel</td>\n",
       "      <td>0</td>\n",
       "      <td>342</td>\n",
       "      <td>0</td>\n",
       "      <td>6</td>\n",
       "      <td>27</td>\n",
       "      <td>1</td>\n",
       "      <td>0</td>\n",
       "      <td>0</td>\n",
       "      <td>BB</td>\n",
       "      <td>...</td>\n",
       "      <td>No Deposit</td>\n",
       "      <td>9.0</td>\n",
       "      <td>0</td>\n",
       "      <td>Transient</td>\n",
       "      <td>0.0</td>\n",
       "      <td>0</td>\n",
       "      <td>0</td>\n",
       "      <td>2.0</td>\n",
       "      <td>0</td>\n",
       "      <td>0</td>\n",
       "    </tr>\n",
       "    <tr>\n",
       "      <th>1</th>\n",
       "      <td>Resort Hotel</td>\n",
       "      <td>0</td>\n",
       "      <td>737</td>\n",
       "      <td>0</td>\n",
       "      <td>6</td>\n",
       "      <td>27</td>\n",
       "      <td>1</td>\n",
       "      <td>0</td>\n",
       "      <td>0</td>\n",
       "      <td>BB</td>\n",
       "      <td>...</td>\n",
       "      <td>No Deposit</td>\n",
       "      <td>9.0</td>\n",
       "      <td>0</td>\n",
       "      <td>Transient</td>\n",
       "      <td>0.0</td>\n",
       "      <td>0</td>\n",
       "      <td>0</td>\n",
       "      <td>2.0</td>\n",
       "      <td>0</td>\n",
       "      <td>0</td>\n",
       "    </tr>\n",
       "    <tr>\n",
       "      <th>2</th>\n",
       "      <td>Resort Hotel</td>\n",
       "      <td>0</td>\n",
       "      <td>7</td>\n",
       "      <td>0</td>\n",
       "      <td>6</td>\n",
       "      <td>27</td>\n",
       "      <td>1</td>\n",
       "      <td>0</td>\n",
       "      <td>1</td>\n",
       "      <td>BB</td>\n",
       "      <td>...</td>\n",
       "      <td>No Deposit</td>\n",
       "      <td>9.0</td>\n",
       "      <td>0</td>\n",
       "      <td>Transient</td>\n",
       "      <td>75.0</td>\n",
       "      <td>0</td>\n",
       "      <td>0</td>\n",
       "      <td>1.0</td>\n",
       "      <td>0</td>\n",
       "      <td>0</td>\n",
       "    </tr>\n",
       "    <tr>\n",
       "      <th>3</th>\n",
       "      <td>Resort Hotel</td>\n",
       "      <td>0</td>\n",
       "      <td>13</td>\n",
       "      <td>0</td>\n",
       "      <td>6</td>\n",
       "      <td>27</td>\n",
       "      <td>1</td>\n",
       "      <td>0</td>\n",
       "      <td>1</td>\n",
       "      <td>BB</td>\n",
       "      <td>...</td>\n",
       "      <td>No Deposit</td>\n",
       "      <td>304.0</td>\n",
       "      <td>0</td>\n",
       "      <td>Transient</td>\n",
       "      <td>75.0</td>\n",
       "      <td>0</td>\n",
       "      <td>0</td>\n",
       "      <td>1.0</td>\n",
       "      <td>0</td>\n",
       "      <td>0</td>\n",
       "    </tr>\n",
       "    <tr>\n",
       "      <th>4</th>\n",
       "      <td>Resort Hotel</td>\n",
       "      <td>0</td>\n",
       "      <td>14</td>\n",
       "      <td>0</td>\n",
       "      <td>6</td>\n",
       "      <td>27</td>\n",
       "      <td>1</td>\n",
       "      <td>0</td>\n",
       "      <td>2</td>\n",
       "      <td>BB</td>\n",
       "      <td>...</td>\n",
       "      <td>No Deposit</td>\n",
       "      <td>240.0</td>\n",
       "      <td>0</td>\n",
       "      <td>Transient</td>\n",
       "      <td>98.0</td>\n",
       "      <td>0</td>\n",
       "      <td>1</td>\n",
       "      <td>2.0</td>\n",
       "      <td>0</td>\n",
       "      <td>0</td>\n",
       "    </tr>\n",
       "  </tbody>\n",
       "</table>\n",
       "<p>5 rows × 27 columns</p>\n",
       "</div>"
      ],
      "text/plain": [
       "          hotel  is_canceled  lead_time  arrival_date_year arrival_date_month  \\\n",
       "0  Resort Hotel            0        342                  0                  6   \n",
       "1  Resort Hotel            0        737                  0                  6   \n",
       "2  Resort Hotel            0          7                  0                  6   \n",
       "3  Resort Hotel            0         13                  0                  6   \n",
       "4  Resort Hotel            0         14                  0                  6   \n",
       "\n",
       "   arrival_date_week_number  arrival_date_day_of_month  \\\n",
       "0                        27                          1   \n",
       "1                        27                          1   \n",
       "2                        27                          1   \n",
       "3                        27                          1   \n",
       "4                        27                          1   \n",
       "\n",
       "   stays_in_weekend_nights  stays_in_week_nights meal  ... deposit_type  \\\n",
       "0                        0                     0   BB  ...   No Deposit   \n",
       "1                        0                     0   BB  ...   No Deposit   \n",
       "2                        0                     1   BB  ...   No Deposit   \n",
       "3                        0                     1   BB  ...   No Deposit   \n",
       "4                        0                     2   BB  ...   No Deposit   \n",
       "\n",
       "   agent days_in_waiting_list  customer_type   adr  \\\n",
       "0    9.0                    0      Transient   0.0   \n",
       "1    9.0                    0      Transient   0.0   \n",
       "2    9.0                    0      Transient  75.0   \n",
       "3  304.0                    0      Transient  75.0   \n",
       "4  240.0                    0      Transient  98.0   \n",
       "\n",
       "  required_car_parking_spaces  total_of_special_requests total_guests  \\\n",
       "0                           0                          0          2.0   \n",
       "1                           0                          0          2.0   \n",
       "2                           0                          0          1.0   \n",
       "3                           0                          0          1.0   \n",
       "4                           0                          1          2.0   \n",
       "\n",
       "   net_booking_cancelled  month  \n",
       "0                      0      0  \n",
       "1                      0      0  \n",
       "2                      0      0  \n",
       "3                      0      0  \n",
       "4                      0      0  \n",
       "\n",
       "[5 rows x 27 columns]"
      ]
     },
     "execution_count": 9,
     "metadata": {},
     "output_type": "execute_result"
    }
   ],
   "source": [
    "df['arrival_date_year'] = df['arrival_date_year'].replace(replace_year)\n",
    "df['arrival_date_month'] = df['arrival_date_month'].replace(replace_month)\n",
    "df['month'] = df['arrival_date_year']+df['arrival_date_year']\n",
    "# df.drop(['arrival_date_year', 'arrival_date_year'], axis = 1, inplace = True)\n",
    "df.head()"
   ]
  },
  {
   "cell_type": "markdown",
   "metadata": {
    "id": "-MNF119rwsIC",
    "nbgrader": {
     "grade": false,
     "grade_id": "cell-0c38f70723ae519e",
     "locked": true,
     "schema_version": 3,
     "solution": false,
     "task": false
    }
   },
   "source": [
    "### Label Encoding\n",
    "\n",
    "All categorical features are encoded with label encoding.\n"
   ]
  },
  {
   "cell_type": "code",
   "execution_count": null,
   "metadata": {
    "id": "sMblbXeEwsIE",
    "nbgrader": {
     "grade": false,
     "grade_id": "cell-ebe3b5cf96137618",
     "locked": true,
     "schema_version": 3,
     "solution": false,
     "task": false
    },
    "outputId": "45d20bea-3d12-429b-c8f0-665e543b3d77"
   },
   "outputs": [
    {
     "data": {
      "text/html": [
       "<div>\n",
       "<style scoped>\n",
       "    .dataframe tbody tr th:only-of-type {\n",
       "        vertical-align: middle;\n",
       "    }\n",
       "\n",
       "    .dataframe tbody tr th {\n",
       "        vertical-align: top;\n",
       "    }\n",
       "\n",
       "    .dataframe thead th {\n",
       "        text-align: right;\n",
       "    }\n",
       "</style>\n",
       "<table border=\"1\" class=\"dataframe\">\n",
       "  <thead>\n",
       "    <tr style=\"text-align: right;\">\n",
       "      <th></th>\n",
       "      <th>hotel</th>\n",
       "      <th>is_canceled</th>\n",
       "      <th>lead_time</th>\n",
       "      <th>arrival_date_year</th>\n",
       "      <th>arrival_date_month</th>\n",
       "      <th>arrival_date_week_number</th>\n",
       "      <th>arrival_date_day_of_month</th>\n",
       "      <th>stays_in_weekend_nights</th>\n",
       "      <th>stays_in_week_nights</th>\n",
       "      <th>meal</th>\n",
       "      <th>...</th>\n",
       "      <th>deposit_type</th>\n",
       "      <th>agent</th>\n",
       "      <th>days_in_waiting_list</th>\n",
       "      <th>customer_type</th>\n",
       "      <th>adr</th>\n",
       "      <th>required_car_parking_spaces</th>\n",
       "      <th>total_of_special_requests</th>\n",
       "      <th>total_guests</th>\n",
       "      <th>net_booking_cancelled</th>\n",
       "      <th>month</th>\n",
       "    </tr>\n",
       "  </thead>\n",
       "  <tbody>\n",
       "    <tr>\n",
       "      <th>0</th>\n",
       "      <td>1</td>\n",
       "      <td>0</td>\n",
       "      <td>342</td>\n",
       "      <td>0</td>\n",
       "      <td>7</td>\n",
       "      <td>27</td>\n",
       "      <td>1</td>\n",
       "      <td>0</td>\n",
       "      <td>0</td>\n",
       "      <td>0</td>\n",
       "      <td>...</td>\n",
       "      <td>0</td>\n",
       "      <td>9.0</td>\n",
       "      <td>0</td>\n",
       "      <td>2</td>\n",
       "      <td>0.0</td>\n",
       "      <td>0</td>\n",
       "      <td>0</td>\n",
       "      <td>2.0</td>\n",
       "      <td>0</td>\n",
       "      <td>0</td>\n",
       "    </tr>\n",
       "    <tr>\n",
       "      <th>1</th>\n",
       "      <td>1</td>\n",
       "      <td>0</td>\n",
       "      <td>737</td>\n",
       "      <td>0</td>\n",
       "      <td>7</td>\n",
       "      <td>27</td>\n",
       "      <td>1</td>\n",
       "      <td>0</td>\n",
       "      <td>0</td>\n",
       "      <td>0</td>\n",
       "      <td>...</td>\n",
       "      <td>0</td>\n",
       "      <td>9.0</td>\n",
       "      <td>0</td>\n",
       "      <td>2</td>\n",
       "      <td>0.0</td>\n",
       "      <td>0</td>\n",
       "      <td>0</td>\n",
       "      <td>2.0</td>\n",
       "      <td>0</td>\n",
       "      <td>0</td>\n",
       "    </tr>\n",
       "    <tr>\n",
       "      <th>2</th>\n",
       "      <td>1</td>\n",
       "      <td>0</td>\n",
       "      <td>7</td>\n",
       "      <td>0</td>\n",
       "      <td>7</td>\n",
       "      <td>27</td>\n",
       "      <td>1</td>\n",
       "      <td>0</td>\n",
       "      <td>1</td>\n",
       "      <td>0</td>\n",
       "      <td>...</td>\n",
       "      <td>0</td>\n",
       "      <td>9.0</td>\n",
       "      <td>0</td>\n",
       "      <td>2</td>\n",
       "      <td>75.0</td>\n",
       "      <td>0</td>\n",
       "      <td>0</td>\n",
       "      <td>1.0</td>\n",
       "      <td>0</td>\n",
       "      <td>0</td>\n",
       "    </tr>\n",
       "    <tr>\n",
       "      <th>3</th>\n",
       "      <td>1</td>\n",
       "      <td>0</td>\n",
       "      <td>13</td>\n",
       "      <td>0</td>\n",
       "      <td>7</td>\n",
       "      <td>27</td>\n",
       "      <td>1</td>\n",
       "      <td>0</td>\n",
       "      <td>1</td>\n",
       "      <td>0</td>\n",
       "      <td>...</td>\n",
       "      <td>0</td>\n",
       "      <td>304.0</td>\n",
       "      <td>0</td>\n",
       "      <td>2</td>\n",
       "      <td>75.0</td>\n",
       "      <td>0</td>\n",
       "      <td>0</td>\n",
       "      <td>1.0</td>\n",
       "      <td>0</td>\n",
       "      <td>0</td>\n",
       "    </tr>\n",
       "    <tr>\n",
       "      <th>4</th>\n",
       "      <td>1</td>\n",
       "      <td>0</td>\n",
       "      <td>14</td>\n",
       "      <td>0</td>\n",
       "      <td>7</td>\n",
       "      <td>27</td>\n",
       "      <td>1</td>\n",
       "      <td>0</td>\n",
       "      <td>2</td>\n",
       "      <td>0</td>\n",
       "      <td>...</td>\n",
       "      <td>0</td>\n",
       "      <td>240.0</td>\n",
       "      <td>0</td>\n",
       "      <td>2</td>\n",
       "      <td>98.0</td>\n",
       "      <td>0</td>\n",
       "      <td>1</td>\n",
       "      <td>2.0</td>\n",
       "      <td>0</td>\n",
       "      <td>0</td>\n",
       "    </tr>\n",
       "  </tbody>\n",
       "</table>\n",
       "<p>5 rows × 27 columns</p>\n",
       "</div>"
      ],
      "text/plain": [
       "   hotel  is_canceled  lead_time  arrival_date_year  arrival_date_month  \\\n",
       "0      1            0        342                  0                   7   \n",
       "1      1            0        737                  0                   7   \n",
       "2      1            0          7                  0                   7   \n",
       "3      1            0         13                  0                   7   \n",
       "4      1            0         14                  0                   7   \n",
       "\n",
       "   arrival_date_week_number  arrival_date_day_of_month  \\\n",
       "0                        27                          1   \n",
       "1                        27                          1   \n",
       "2                        27                          1   \n",
       "3                        27                          1   \n",
       "4                        27                          1   \n",
       "\n",
       "   stays_in_weekend_nights  stays_in_week_nights  meal  ...  deposit_type  \\\n",
       "0                        0                     0     0  ...             0   \n",
       "1                        0                     0     0  ...             0   \n",
       "2                        0                     1     0  ...             0   \n",
       "3                        0                     1     0  ...             0   \n",
       "4                        0                     2     0  ...             0   \n",
       "\n",
       "   agent  days_in_waiting_list  customer_type   adr  \\\n",
       "0    9.0                     0              2   0.0   \n",
       "1    9.0                     0              2   0.0   \n",
       "2    9.0                     0              2  75.0   \n",
       "3  304.0                     0              2  75.0   \n",
       "4  240.0                     0              2  98.0   \n",
       "\n",
       "   required_car_parking_spaces  total_of_special_requests  total_guests  \\\n",
       "0                            0                          0           2.0   \n",
       "1                            0                          0           2.0   \n",
       "2                            0                          0           1.0   \n",
       "3                            0                          0           1.0   \n",
       "4                            0                          1           2.0   \n",
       "\n",
       "   net_booking_cancelled  month  \n",
       "0                      0      0  \n",
       "1                      0      0  \n",
       "2                      0      0  \n",
       "3                      0      0  \n",
       "4                      0      0  \n",
       "\n",
       "[5 rows x 27 columns]"
      ]
     },
     "execution_count": 10,
     "metadata": {},
     "output_type": "execute_result"
    }
   ],
   "source": [
    "from sklearn.preprocessing import LabelEncoder\n",
    "\n",
    "\n",
    "cat_vars = [var for var in df.columns if df[var].dtypes=='O']\n",
    "df[cat_vars] = df[cat_vars].astype(str).apply(LabelEncoder().fit_transform)\n",
    "df.head()"
   ]
  },
  {
   "cell_type": "markdown",
   "metadata": {
    "id": "3gv7QJLkwsIN",
    "nbgrader": {
     "grade": false,
     "grade_id": "cell-63009ab9120d68aa",
     "locked": true,
     "schema_version": 3,
     "solution": false,
     "task": false
    }
   },
   "source": [
    "### Train-Test Split\n",
    "\n",
    "Before performing train-test split let's check the class distribution."
   ]
  },
  {
   "cell_type": "code",
   "execution_count": null,
   "metadata": {
    "id": "YPhv7xg2wsIO",
    "nbgrader": {
     "grade": false,
     "grade_id": "cell-4c3c82852baf6e8c",
     "locked": true,
     "schema_version": 3,
     "solution": false,
     "task": false
    },
    "outputId": "5032bb3a-4456-4fad-e554-085f686840e1"
   },
   "outputs": [
    {
     "data": {
      "text/plain": [
       "<AxesSubplot:>"
      ]
     },
     "execution_count": 11,
     "metadata": {},
     "output_type": "execute_result"
    },
    {
     "data": {
      "image/png": "[encoded data removed]",
      "text/plain": [
       "<Figure size 432x288 with 1 Axes>"
      ]
     },
     "metadata": {
      "needs_background": "light"
     },
     "output_type": "display_data"
    }
   ],
   "source": [
    "df['is_canceled'].value_counts().plot(kind = 'bar')"
   ]
  },
  {
   "cell_type": "markdown",
   "metadata": {
    "id": "idp18pfRwsIW",
    "nbgrader": {
     "grade": false,
     "grade_id": "cell-13717f78e9b4e741",
     "locked": true,
     "schema_version": 3,
     "solution": false,
     "task": false
    }
   },
   "source": [
    "We see that the dataset is imbalanced. This forces us to:\n",
    "- Set `stratify` to `y` while splitting the dataset so that the proportion of `is_canceled = 0`, and `is_canceled = 1` remains constant in the training and test dataset.\n",
    "- Use metric like f1 score to assess the performance of our model"
   ]
  },
  {
   "cell_type": "code",
   "execution_count": null,
   "metadata": {
    "id": "ioN2runWwsIX",
    "nbgrader": {
     "grade": false,
     "grade_id": "cell-8684ac95ede2a433",
     "locked": true,
     "schema_version": 3,
     "solution": false,
     "task": false
    }
   },
   "outputs": [],
   "source": [
    "from sklearn.model_selection import train_test_split\n",
    "\n",
    "\n",
    "RANDOM_STATE = 7\n",
    "y= df['is_canceled']\n",
    "X = df.drop('is_canceled', axis = 1)\n",
    "X_train, X_test, y_train, y_test = train_test_split(X, y, test_size = 0.2, stratify = y, random_state = RANDOM_STATE)"
   ]
  },
  {
   "cell_type": "markdown",
   "metadata": {
    "id": "-FH86C_ewsId",
    "nbgrader": {
     "grade": false,
     "grade_id": "cell-905fcb117aad61f6",
     "locked": true,
     "schema_version": 3,
     "solution": false,
     "task": false
    }
   },
   "source": [
    "## Bagging\n",
    "\n",
    "### Exercise 1: Training Bagging Classifier\n",
    "<b><div style=\"text-align: right\">[POINTS: 1]</div></b>\n",
    "\n",
    "---\n",
    "\n",
    "\n",
    "**Task:** \n",
    "-  Instantiate BaggingClassifier in the variable `bagging` with __n_estimators__ set to 100 and  __random_state__ set to RANDOM_STATE"
   ]
  },
  {
   "cell_type": "code",
   "execution_count": null,
   "metadata": {
    "id": "v4WnJLOCwsIe",
    "nbgrader": {
     "grade": false,
     "grade_id": "cell-b035578ba9f37360",
     "locked": false,
     "schema_version": 3,
     "solution": true,
     "task": false
    },
    "outputId": "bef97b41-8a6f-4ef4-f8ab-ad8a1ee96126",
    "tags": [
     "Ex-1-Task-1"
    ]
   },
   "outputs": [
    {
     "name": "stdout",
     "output_type": "stream",
     "text": [
      "Train f1_score: 0.9960933002773003\n",
      "Test f1_score: 0.8899704649635516\n"
     ]
    }
   ],
   "source": [
    "### Ex-1-Task-1\n",
    "\n",
    "from sklearn.ensemble import BaggingClassifier\n",
    "from sklearn.metrics import f1_score\n",
    "\n",
    "\n",
    "bagging = None\n",
    "### BEGIN SOLUTION\n",
    "bagging = BaggingClassifier(n_estimators = 100, random_state = RANDOM_STATE)\n",
    "### END SOLUTION\n",
    "bagging.fit(X_train, y_train)\n",
    "print(\"Train f1_score:\", f1_score(y_train, bagging.predict(X_train), average = 'weighted'))\n",
    "print(\"Test f1_score:\", f1_score(y_test, bagging.predict(X_test), average = 'weighted'))"
   ]
  },
  {
   "cell_type": "code",
   "execution_count": null,
   "metadata": {
    "id": "pTrHUGX7wsIm",
    "nbgrader": {
     "grade": true,
     "grade_id": "cell-4abb817fcb9f3fd8",
     "locked": true,
     "points": 1,
     "schema_version": 3,
     "solution": false,
     "task": false
    },
    "tags": [
     "Ex-1-Task-1"
    ]
   },
   "outputs": [],
   "source": [
    "assert bagging is not None\n",
    "### BEGIN HIDDEN TESTS\n",
    "\n",
    "assert bagging.n_estimators == 100, \"Please set the number of estimators to 100\"\n",
    "assert bagging.random_state == RANDOM_STATE, \"Please set the random state to RANDOM_STATE\"\n",
    "\n",
    "### END HIDDEN TESTS"
   ]
  },
  {
   "cell_type": "markdown",
   "metadata": {
    "id": "7aoaNQUYwsIs",
    "nbgrader": {
     "grade": false,
     "grade_id": "cell-93661e0a4d78d9c6",
     "locked": true,
     "schema_version": 3,
     "solution": false,
     "task": false
    }
   },
   "source": [
    "## Random Forest\n",
    "\n",
    "### Exercise 2: Training Random Forest Classifier\n",
    "<b><div style=\"text-align: right\">[POINTS: 1]</div></b>\n",
    "\n",
    "---\n",
    "\n",
    "\n",
    "**Task:** \n",
    "-  Instantiate RandomForestClassifier in the variable `rf` with __n_estimators__ set to 100, and  __random_state__ set to RANDOM_STATE"
   ]
  },
  {
   "cell_type": "code",
   "execution_count": null,
   "metadata": {
    "id": "6XDrmqnkwsIt",
    "nbgrader": {
     "grade": false,
     "grade_id": "cell-495dd9906e2fa3a6",
     "locked": false,
     "schema_version": 3,
     "solution": true,
     "task": false
    },
    "outputId": "f85db801-ee93-4cb5-994c-426eb98378a0",
    "tags": [
     "Ex-2-Task-1"
    ]
   },
   "outputs": [
    {
     "name": "stdout",
     "output_type": "stream",
     "text": [
      "Train f1_score: 0.9961141563536368\n",
      "Test f1_score: 0.8942566123377529\n"
     ]
    }
   ],
   "source": [
    "### Ex-2-Task-1\n",
    "\n",
    "from sklearn.ensemble import RandomForestClassifier\n",
    "\n",
    "rf = None\n",
    "### BEGIN SOLUTION\n",
    "rf = RandomForestClassifier(n_estimators = 100, random_state = RANDOM_STATE)\n",
    "### END SOLUTION\n",
    "rf.fit(X_train, y_train)\n",
    "print(\"Train f1_score:\", f1_score(y_train, rf.predict(X_train), average = 'weighted'))\n",
    "print(\"Test f1_score:\", f1_score(y_test, rf.predict(X_test), average = 'weighted'))"
   ]
  },
  {
   "cell_type": "code",
   "execution_count": null,
   "metadata": {
    "id": "SuRcc3LHwsIy",
    "nbgrader": {
     "grade": true,
     "grade_id": "cell-2cbd41b766162a73",
     "locked": true,
     "points": 1,
     "schema_version": 3,
     "solution": false,
     "task": false
    },
    "tags": [
     "Ex-2-Task-1"
    ]
   },
   "outputs": [],
   "source": [
    "assert rf is not None\n",
    "### BEGIN HIDDEN TESTS\n",
    "\n",
    "assert rf.n_estimators == 100, \"Please set the number of estimators to 100\"\n",
    "assert rf.random_state == RANDOM_STATE, \"Please set the random state to RANDOM_STATE\"\n",
    "\n",
    "### END HIDDEN TESTS"
   ]
  },
  {
   "cell_type": "markdown",
   "metadata": {
    "id": "HrCu3Pp-wsI5",
    "nbgrader": {
     "grade": false,
     "grade_id": "cell-8680bae94e0b8faf",
     "locked": true,
     "schema_version": 3,
     "solution": false,
     "task": false
    }
   },
   "source": [
    "## XGBoost\n",
    "\n",
    "### Exercise 3: XGBoost Training\n",
    "<b><div style=\"text-align: right\">[POINTS: 1]</div></b>\n",
    "\n",
    "---\n",
    "Here we will train XGBoost with most of the parameters left to default.\n",
    "\n",
    "**Task:** \n",
    "-  Instantiate XGBClassifier in the variable `xgb` with __n_estimators__ set to 100 and __random_state__ set to RANDOM_STATE\n"
   ]
  },
  {
   "cell_type": "markdown",
   "metadata": {
    "id": "CJtvzUaQe8FB"
   },
   "source": [
    "## Error around this cell"
   ]
  },
  {
   "cell_type": "code",
   "execution_count": null,
   "metadata": {
    "id": "JTDajYP9wsI6",
    "nbgrader": {
     "grade": false,
     "grade_id": "cell-9070fe216cafb265",
     "locked": false,
     "schema_version": 3,
     "solution": true,
     "task": false
    },
    "outputId": "e56b76c5-6dd8-40d0-fae3-4a7e69e7495d",
    "tags": [
     "Ex-3-Task-1"
    ]
   },
   "outputs": [
    {
     "name": "stdout",
     "output_type": "stream",
     "text": [
      "XGBClassifer with default parameters:\n",
      "\n",
      "XGBClassifier(base_score=0.5, booster='gbtree', callbacks=None,\n",
      "              colsample_bylevel=1, colsample_bynode=1, colsample_bytree=1,\n",
      "              early_stopping_rounds=None, enable_categorical=False,\n",
      "              eval_metric=None, gamma=0, gpu_id=-1, grow_policy='depthwise',\n",
      "              importance_type=None, interaction_constraints='',\n",
      "              learning_rate=0.300000012, max_bin=256, max_cat_to_onehot=4,\n",
      "              max_delta_step=0, max_depth=6, max_leaves=0, min_child_weight=1,\n",
      "              missing=nan, monotone_constraints='()', n_estimators=100,\n",
      "              n_jobs=0, num_parallel_tree=1, predictor='auto', random_state=7,\n",
      "              reg_alpha=0, reg_lambda=1, ...)\n"
     ]
    }
   ],
   "source": [
    "### Ex-3-Task-1\n",
    "\n",
    "from xgboost import XGBClassifier\n",
    "\n",
    "\n",
    "xgb = None\n",
    "### BEGIN SOLUTION\n",
    "xgb = XGBClassifier(n_estimators = 100, random_state = RANDOM_STATE)\n",
    "### END SOLUTION\n",
    "xgb.fit(X_train, y_train)\n",
    "print(\"XGBClassifer with default parameters:\\n\")\n",
    "print(xgb)"
   ]
  },
  {
   "cell_type": "code",
   "execution_count": null,
   "metadata": {
    "id": "co-fgNlBwsI_",
    "nbgrader": {
     "grade": true,
     "grade_id": "cell-f3b03e893eedfef4",
     "locked": true,
     "points": 1,
     "schema_version": 3,
     "solution": false,
     "task": false
    },
    "tags": [
     "Ex-3-Task-1"
    ]
   },
   "outputs": [],
   "source": [
    "assert xgb is not None\n",
    "### BEGIN HIDDEN TESTS\n",
    "\n",
    "assert xgb.n_estimators == 100, \"Please set the number of estimators to 100\"\n",
    "assert xgb.random_state == RANDOM_STATE, \"Please set the random state to RANDOM_STATE\"\n",
    "\n",
    "### END HIDDEN TESTS"
   ]
  },
  {
   "cell_type": "markdown",
   "metadata": {
    "id": "2MfIlj_wwsJE",
    "nbgrader": {
     "grade": false,
     "grade_id": "cell-a90137b98eb00dd1",
     "locked": true,
     "schema_version": 3,
     "solution": false,
     "task": false
    }
   },
   "source": [
    "### Model Evaluation\n"
   ]
  },
  {
   "cell_type": "code",
   "execution_count": null,
   "metadata": {
    "id": "aAU-U1zAwsJF",
    "nbgrader": {
     "grade": false,
     "grade_id": "cell-81881a49a238d8ef",
     "locked": true,
     "schema_version": 3,
     "solution": false,
     "task": false
    },
    "outputId": "e475fd58-9676-429b-bbb4-f179ee6974ae"
   },
   "outputs": [
    {
     "name": "stdout",
     "output_type": "stream",
     "text": [
      "Train f1_score: 0.8958898021431047\n",
      "Test f1_score: 0.8766195566279762\n"
     ]
    }
   ],
   "source": [
    "print(\"Train f1_score:\", f1_score(y_train, xgb.predict(X_train), average = 'weighted'))\n",
    "print(\"Test f1_score:\", f1_score(y_test, xgb.predict(X_test), average = 'weighted'))"
   ]
  },
  {
   "cell_type": "markdown",
   "metadata": {
    "id": "Cp8cVcgkwsJL",
    "nbgrader": {
     "grade": false,
     "grade_id": "cell-80e77d38218e7c7d",
     "locked": true,
     "schema_version": 3,
     "solution": false,
     "task": false
    }
   },
   "source": [
    "### Tree Visualization\n",
    "\n",
    "### Exercise 4: Plot the tree structure\n",
    "<b><div style=\"text-align: right\">[UNGRADED]</div></b>\n",
    "\n",
    "---\n",
    "Plot the tree structure in the cell below. You can use `plot_tree()` or `to_graphviz()` method provided by xgboost to plot the tree.\n",
    "\n",
    "**Task:** \n",
    "-  Your task is to plot the 20th tree and answer the quiz below.\n",
    "\n"
   ]
  },
  {
   "cell_type": "code",
   "execution_count": null,
   "metadata": {
    "id": "48H5N7r-wsJM",
    "nbgrader": {
     "grade": false,
     "grade_id": "cell-7404e01a7c17571f",
     "locked": false,
     "schema_version": 3,
     "solution": true,
     "task": false
    },
    "outputId": "4083233c-545b-4116-d3e4-25839cfad204",
    "scrolled": true,
    "tags": [
     "Ex-4-Task-1"
    ]
   },
   "outputs": [
    {
     "data": {
      "image/svg+xml": [
       "<?xml version=\"1.0\" encoding=\"UTF-8\" standalone=\"no\"?>\n",
       "<!DOCTYPE svg PUBLIC \"-//W3C//DTD SVG 1.1//EN\"\n",
       " \"http://www.w3.org/Graphics/SVG/1.1/DTD/svg11.dtd\">\n",
       "<!-- Generated by graphviz version 2.43.0 (0)\n",
       " -->\n",
       "<!-- Title: %3 Pages: 1 -->\n",
       "<svg width=\"3825pt\" height=\"566pt\"\n",
       " viewBox=\"0.00 0.00 3824.89 566.00\" xmlns=\"http://www.w3.org/2000/svg\" xmlns:xlink=\"http://www.w3.org/1999/xlink\">\n",
       "<g id=\"graph0\" class=\"graph\" transform=\"scale(1 1) rotate(0) translate(4 562)\">\n",
       "<title>%3</title>\n",
       "<polygon fill=\"white\" stroke=\"transparent\" points=\"-4,4 -4,-562 3820.89,-562 3820.89,4 -4,4\"/>\n",
       "<!-- 0 -->\n",
       "<g id=\"node1\" class=\"node\">\n",
       "<title>0</title>\n",
       "<ellipse fill=\"none\" stroke=\"black\" cx=\"2577.94\" cy=\"-540\" rx=\"129.98\" ry=\"18\"/>\n",
       "<text text-anchor=\"middle\" x=\"2577.94\" y=\"-536.3\" font-family=\"Times,serif\" font-size=\"14.00\">required_car_parking_spaces&lt;0.5</text>\n",
       "</g>\n",
       "<!-- 1 -->\n",
       "<g id=\"node2\" class=\"node\">\n",
       "<title>1</title>\n",
       "<ellipse fill=\"none\" stroke=\"black\" cx=\"2474.94\" cy=\"-453\" rx=\"108.58\" ry=\"18\"/>\n",
       "<text text-anchor=\"middle\" x=\"2474.94\" y=\"-449.3\" font-family=\"Times,serif\" font-size=\"14.00\">net_booking_cancelled&lt;0.5</text>\n",
       "</g>\n",
       "<!-- 0&#45;&gt;1 -->\n",
       "<g id=\"edge1\" class=\"edge\">\n",
       "<title>0&#45;&gt;1</title>\n",
       "<path fill=\"none\" stroke=\"#0000ff\" d=\"M2557.59,-522.21C2542.08,-509.4 2520.51,-491.61 2503.3,-477.4\"/>\n",
       "<polygon fill=\"#0000ff\" stroke=\"#0000ff\" points=\"2505.19,-474.42 2495.25,-470.76 2500.74,-479.82 2505.19,-474.42\"/>\n",
       "<text text-anchor=\"middle\" x=\"2567.44\" y=\"-492.8\" font-family=\"Times,serif\" font-size=\"14.00\">yes, missing</text>\n",
       "</g>\n",
       "<!-- 2 -->\n",
       "<g id=\"node3\" class=\"node\">\n",
       "<title>2</title>\n",
       "<ellipse fill=\"none\" stroke=\"black\" cx=\"2679.94\" cy=\"-453\" rx=\"78.79\" ry=\"18\"/>\n",
       "<text text-anchor=\"middle\" x=\"2679.94\" y=\"-449.3\" font-family=\"Times,serif\" font-size=\"14.00\">leaf=&#45;0.297913313</text>\n",
       "</g>\n",
       "<!-- 0&#45;&gt;2 -->\n",
       "<g id=\"edge2\" class=\"edge\">\n",
       "<title>0&#45;&gt;2</title>\n",
       "<path fill=\"none\" stroke=\"#ff0000\" d=\"M2598.09,-522.21C2613.56,-509.32 2635.09,-491.38 2652.19,-477.13\"/>\n",
       "<polygon fill=\"#ff0000\" stroke=\"#ff0000\" points=\"2654.74,-479.56 2660.18,-470.47 2650.26,-474.18 2654.74,-479.56\"/>\n",
       "<text text-anchor=\"middle\" x=\"2642.94\" y=\"-492.8\" font-family=\"Times,serif\" font-size=\"14.00\">no</text>\n",
       "</g>\n",
       "<!-- 3 -->\n",
       "<g id=\"node4\" class=\"node\">\n",
       "<title>3</title>\n",
       "<ellipse fill=\"none\" stroke=\"black\" cx=\"2092.94\" cy=\"-366\" rx=\"48.19\" ry=\"18\"/>\n",
       "<text text-anchor=\"middle\" x=\"2092.94\" y=\"-362.3\" font-family=\"Times,serif\" font-size=\"14.00\">agent&lt;228</text>\n",
       "</g>\n",
       "<!-- 1&#45;&gt;3 -->\n",
       "<g id=\"edge3\" class=\"edge\">\n",
       "<title>1&#45;&gt;3</title>\n",
       "<path fill=\"none\" stroke=\"#0000ff\" d=\"M2412.72,-438.15C2337.46,-421.41 2212.26,-393.55 2142.95,-378.13\"/>\n",
       "<polygon fill=\"#0000ff\" stroke=\"#0000ff\" points=\"2143.67,-374.7 2133.15,-375.95 2142.15,-381.53 2143.67,-374.7\"/>\n",
       "<text text-anchor=\"middle\" x=\"2341.44\" y=\"-405.8\" font-family=\"Times,serif\" font-size=\"14.00\">yes, missing</text>\n",
       "</g>\n",
       "<!-- 4 -->\n",
       "<g id=\"node5\" class=\"node\">\n",
       "<title>4</title>\n",
       "<ellipse fill=\"none\" stroke=\"black\" cx=\"3139.94\" cy=\"-366\" rx=\"92.88\" ry=\"18\"/>\n",
       "<text text-anchor=\"middle\" x=\"3139.94\" y=\"-362.3\" font-family=\"Times,serif\" font-size=\"14.00\">distribution_channel&lt;2</text>\n",
       "</g>\n",
       "<!-- 1&#45;&gt;4 -->\n",
       "<g id=\"edge4\" class=\"edge\">\n",
       "<title>1&#45;&gt;4</title>\n",
       "<path fill=\"none\" stroke=\"#ff0000\" d=\"M2552.95,-440.43C2565.97,-438.57 2579.33,-436.7 2591.94,-435 2754.4,-413.12 2944.31,-390.13 3052.52,-377.28\"/>\n",
       "<polygon fill=\"#ff0000\" stroke=\"#ff0000\" points=\"3053.22,-380.72 3062.74,-376.07 3052.39,-373.77 3053.22,-380.72\"/>\n",
       "<text text-anchor=\"middle\" x=\"2854.94\" y=\"-405.8\" font-family=\"Times,serif\" font-size=\"14.00\">no</text>\n",
       "</g>\n",
       "<!-- 5 -->\n",
       "<g id=\"node6\" class=\"node\">\n",
       "<title>5</title>\n",
       "<ellipse fill=\"none\" stroke=\"black\" cx=\"1037.94\" cy=\"-279\" rx=\"50.89\" ry=\"18\"/>\n",
       "<text text-anchor=\"middle\" x=\"1037.94\" y=\"-275.3\" font-family=\"Times,serif\" font-size=\"14.00\">agent&lt;21.5</text>\n",
       "</g>\n",
       "<!-- 3&#45;&gt;5 -->\n",
       "<g id=\"edge5\" class=\"edge\">\n",
       "<title>3&#45;&gt;5</title>\n",
       "<path fill=\"none\" stroke=\"#0000ff\" d=\"M2046.25,-361.24C1875.62,-347.49 1285.99,-299.98 1096.84,-284.75\"/>\n",
       "<polygon fill=\"#0000ff\" stroke=\"#0000ff\" points=\"1097.06,-281.25 1086.81,-283.94 1096.5,-288.23 1097.06,-281.25\"/>\n",
       "<text text-anchor=\"middle\" x=\"1663.44\" y=\"-318.8\" font-family=\"Times,serif\" font-size=\"14.00\">yes, missing</text>\n",
       "</g>\n",
       "<!-- 6 -->\n",
       "<g id=\"node7\" class=\"node\">\n",
       "<title>6</title>\n",
       "<ellipse fill=\"none\" stroke=\"black\" cx=\"2092.94\" cy=\"-279\" rx=\"55.49\" ry=\"18\"/>\n",
       "<text text-anchor=\"middle\" x=\"2092.94\" y=\"-275.3\" font-family=\"Times,serif\" font-size=\"14.00\">agent&lt;240.5</text>\n",
       "</g>\n",
       "<!-- 3&#45;&gt;6 -->\n",
       "<g id=\"edge6\" class=\"edge\">\n",
       "<title>3&#45;&gt;6</title>\n",
       "<path fill=\"none\" stroke=\"#ff0000\" d=\"M2092.94,-347.8C2092.94,-336.16 2092.94,-320.55 2092.94,-307.24\"/>\n",
       "<polygon fill=\"#ff0000\" stroke=\"#ff0000\" points=\"2096.44,-307.18 2092.94,-297.18 2089.44,-307.18 2096.44,-307.18\"/>\n",
       "<text text-anchor=\"middle\" x=\"2099.94\" y=\"-318.8\" font-family=\"Times,serif\" font-size=\"14.00\">no</text>\n",
       "</g>\n",
       "<!-- 7 -->\n",
       "<g id=\"node36\" class=\"node\">\n",
       "<title>7</title>\n",
       "<ellipse fill=\"none\" stroke=\"black\" cx=\"3139.94\" cy=\"-279\" rx=\"44.69\" ry=\"18\"/>\n",
       "<text text-anchor=\"middle\" x=\"3139.94\" y=\"-275.3\" font-family=\"Times,serif\" font-size=\"14.00\">meal&lt;0.5</text>\n",
       "</g>\n",
       "<!-- 4&#45;&gt;7 -->\n",
       "<g id=\"edge35\" class=\"edge\">\n",
       "<title>4&#45;&gt;7</title>\n",
       "<path fill=\"none\" stroke=\"#0000ff\" d=\"M3139.94,-347.8C3139.94,-336.16 3139.94,-320.55 3139.94,-307.24\"/>\n",
       "<polygon fill=\"#0000ff\" stroke=\"#0000ff\" points=\"3143.44,-307.18 3139.94,-297.18 3136.44,-307.18 3143.44,-307.18\"/>\n",
       "<text text-anchor=\"middle\" x=\"3174.44\" y=\"-318.8\" font-family=\"Times,serif\" font-size=\"14.00\">yes, missing</text>\n",
       "</g>\n",
       "<!-- 8 -->\n",
       "<g id=\"node37\" class=\"node\">\n",
       "<title>8</title>\n",
       "<ellipse fill=\"none\" stroke=\"black\" cx=\"3413.94\" cy=\"-279\" rx=\"66.89\" ry=\"18\"/>\n",
       "<text text-anchor=\"middle\" x=\"3413.94\" y=\"-275.3\" font-family=\"Times,serif\" font-size=\"14.00\">lead_time&lt;11.5</text>\n",
       "</g>\n",
       "<!-- 4&#45;&gt;8 -->\n",
       "<g id=\"edge36\" class=\"edge\">\n",
       "<title>4&#45;&gt;8</title>\n",
       "<path fill=\"none\" stroke=\"#ff0000\" d=\"M3187.05,-350.39C3235.82,-335.26 3311.8,-311.69 3362.22,-296.05\"/>\n",
       "<polygon fill=\"#ff0000\" stroke=\"#ff0000\" points=\"3363.43,-299.34 3371.94,-293.03 3361.35,-292.65 3363.43,-299.34\"/>\n",
       "<text text-anchor=\"middle\" x=\"3299.94\" y=\"-318.8\" font-family=\"Times,serif\" font-size=\"14.00\">no</text>\n",
       "</g>\n",
       "<!-- 9 -->\n",
       "<g id=\"node8\" class=\"node\">\n",
       "<title>9</title>\n",
       "<ellipse fill=\"none\" stroke=\"black\" cx=\"524.94\" cy=\"-192\" rx=\"117.78\" ry=\"18\"/>\n",
       "<text text-anchor=\"middle\" x=\"524.94\" y=\"-188.3\" font-family=\"Times,serif\" font-size=\"14.00\">stays_in_weekend_nights&lt;2.5</text>\n",
       "</g>\n",
       "<!-- 5&#45;&gt;9 -->\n",
       "<g id=\"edge7\" class=\"edge\">\n",
       "<title>5&#45;&gt;9</title>\n",
       "<path fill=\"none\" stroke=\"#0000ff\" d=\"M992.87,-270.53C907.75,-256.43 722.05,-225.66 611.9,-207.41\"/>\n",
       "<polygon fill=\"#0000ff\" stroke=\"#0000ff\" points=\"612.25,-203.92 601.81,-205.74 611.1,-210.82 612.25,-203.92\"/>\n",
       "<text text-anchor=\"middle\" x=\"847.44\" y=\"-231.8\" font-family=\"Times,serif\" font-size=\"14.00\">yes, missing</text>\n",
       "</g>\n",
       "<!-- 10 -->\n",
       "<g id=\"node9\" class=\"node\">\n",
       "<title>10</title>\n",
       "<ellipse fill=\"none\" stroke=\"black\" cx=\"1037.94\" cy=\"-192\" rx=\"55.79\" ry=\"18\"/>\n",
       "<text text-anchor=\"middle\" x=\"1037.94\" y=\"-188.3\" font-family=\"Times,serif\" font-size=\"14.00\">country&lt;134</text>\n",
       "</g>\n",
       "<!-- 5&#45;&gt;10 -->\n",
       "<g id=\"edge8\" class=\"edge\">\n",
       "<title>5&#45;&gt;10</title>\n",
       "<path fill=\"none\" stroke=\"#ff0000\" d=\"M1037.94,-260.8C1037.94,-249.16 1037.94,-233.55 1037.94,-220.24\"/>\n",
       "<polygon fill=\"#ff0000\" stroke=\"#ff0000\" points=\"1041.44,-220.18 1037.94,-210.18 1034.44,-220.18 1041.44,-220.18\"/>\n",
       "<text text-anchor=\"middle\" x=\"1044.94\" y=\"-231.8\" font-family=\"Times,serif\" font-size=\"14.00\">no</text>\n",
       "</g>\n",
       "<!-- 11 -->\n",
       "<g id=\"node22\" class=\"node\">\n",
       "<title>11</title>\n",
       "<ellipse fill=\"none\" stroke=\"black\" cx=\"1927.94\" cy=\"-192\" rx=\"66.89\" ry=\"18\"/>\n",
       "<text text-anchor=\"middle\" x=\"1927.94\" y=\"-188.3\" font-family=\"Times,serif\" font-size=\"14.00\">lead_time&lt;12.5</text>\n",
       "</g>\n",
       "<!-- 6&#45;&gt;11 -->\n",
       "<g id=\"edge21\" class=\"edge\">\n",
       "<title>6&#45;&gt;11</title>\n",
       "<path fill=\"none\" stroke=\"#0000ff\" d=\"M2064.58,-263.39C2037.52,-249.45 1996.56,-228.35 1966.54,-212.88\"/>\n",
       "<polygon fill=\"#0000ff\" stroke=\"#0000ff\" points=\"1968.1,-209.75 1957.61,-208.28 1964.89,-215.97 1968.1,-209.75\"/>\n",
       "<text text-anchor=\"middle\" x=\"2055.44\" y=\"-231.8\" font-family=\"Times,serif\" font-size=\"14.00\">yes, missing</text>\n",
       "</g>\n",
       "<!-- 12 -->\n",
       "<g id=\"node23\" class=\"node\">\n",
       "<title>12</title>\n",
       "<ellipse fill=\"none\" stroke=\"black\" cx=\"2328.94\" cy=\"-192\" rx=\"55.79\" ry=\"18\"/>\n",
       "<text text-anchor=\"middle\" x=\"2328.94\" y=\"-188.3\" font-family=\"Times,serif\" font-size=\"14.00\">country&lt;134</text>\n",
       "</g>\n",
       "<!-- 6&#45;&gt;12 -->\n",
       "<g id=\"edge22\" class=\"edge\">\n",
       "<title>6&#45;&gt;12</title>\n",
       "<path fill=\"none\" stroke=\"#ff0000\" d=\"M2128.53,-265.18C2169.92,-250.28 2238.32,-225.64 2283.51,-209.36\"/>\n",
       "<polygon fill=\"#ff0000\" stroke=\"#ff0000\" points=\"2284.84,-212.6 2293.07,-205.92 2282.47,-206.02 2284.84,-212.6\"/>\n",
       "<text text-anchor=\"middle\" x=\"2232.94\" y=\"-231.8\" font-family=\"Times,serif\" font-size=\"14.00\">no</text>\n",
       "</g>\n",
       "<!-- 17 -->\n",
       "<g id=\"node10\" class=\"node\">\n",
       "<title>17</title>\n",
       "<ellipse fill=\"none\" stroke=\"black\" cx=\"260.94\" cy=\"-105\" rx=\"116.18\" ry=\"18\"/>\n",
       "<text text-anchor=\"middle\" x=\"260.94\" y=\"-101.3\" font-family=\"Times,serif\" font-size=\"14.00\">total_of_special_requests&lt;0.5</text>\n",
       "</g>\n",
       "<!-- 9&#45;&gt;17 -->\n",
       "<g id=\"edge9\" class=\"edge\">\n",
       "<title>9&#45;&gt;17</title>\n",
       "<path fill=\"none\" stroke=\"#0000ff\" d=\"M476.83,-175.51C432.4,-161.2 366.31,-139.93 318.98,-124.68\"/>\n",
       "<polygon fill=\"#0000ff\" stroke=\"#0000ff\" points=\"319.76,-121.26 309.17,-121.53 317.62,-127.92 319.76,-121.26\"/>\n",
       "<text text-anchor=\"middle\" x=\"443.44\" y=\"-144.8\" font-family=\"Times,serif\" font-size=\"14.00\">yes, missing</text>\n",
       "</g>\n",
       "<!-- 18 -->\n",
       "<g id=\"node11\" class=\"node\">\n",
       "<title>18</title>\n",
       "<ellipse fill=\"none\" stroke=\"black\" cx=\"524.94\" cy=\"-105\" rx=\"44.69\" ry=\"18\"/>\n",
       "<text text-anchor=\"middle\" x=\"524.94\" y=\"-101.3\" font-family=\"Times,serif\" font-size=\"14.00\">hotel&lt;0.5</text>\n",
       "</g>\n",
       "<!-- 9&#45;&gt;18 -->\n",
       "<g id=\"edge10\" class=\"edge\">\n",
       "<title>9&#45;&gt;18</title>\n",
       "<path fill=\"none\" stroke=\"#ff0000\" d=\"M524.94,-173.8C524.94,-162.16 524.94,-146.55 524.94,-133.24\"/>\n",
       "<polygon fill=\"#ff0000\" stroke=\"#ff0000\" points=\"528.44,-133.18 524.94,-123.18 521.44,-133.18 528.44,-133.18\"/>\n",
       "<text text-anchor=\"middle\" x=\"531.94\" y=\"-144.8\" font-family=\"Times,serif\" font-size=\"14.00\">no</text>\n",
       "</g>\n",
       "<!-- 19 -->\n",
       "<g id=\"node16\" class=\"node\">\n",
       "<title>19</title>\n",
       "<ellipse fill=\"none\" stroke=\"black\" cx=\"969.94\" cy=\"-105\" rx=\"86.38\" ry=\"18\"/>\n",
       "<text text-anchor=\"middle\" x=\"969.94\" y=\"-101.3\" font-family=\"Times,serif\" font-size=\"14.00\">market_segment&lt;5.5</text>\n",
       "</g>\n",
       "<!-- 10&#45;&gt;19 -->\n",
       "<g id=\"edge15\" class=\"edge\">\n",
       "<title>10&#45;&gt;19</title>\n",
       "<path fill=\"none\" stroke=\"#0000ff\" d=\"M1024.51,-174.21C1014.7,-161.95 1001.23,-145.11 990.13,-131.24\"/>\n",
       "<polygon fill=\"#0000ff\" stroke=\"#0000ff\" points=\"992.56,-128.67 983.58,-123.05 987.1,-133.04 992.56,-128.67\"/>\n",
       "<text text-anchor=\"middle\" x=\"1043.44\" y=\"-144.8\" font-family=\"Times,serif\" font-size=\"14.00\">yes, missing</text>\n",
       "</g>\n",
       "<!-- 20 -->\n",
       "<g id=\"node17\" class=\"node\">\n",
       "<title>20</title>\n",
       "<ellipse fill=\"none\" stroke=\"black\" cx=\"1146.94\" cy=\"-105\" rx=\"55.79\" ry=\"18\"/>\n",
       "<text text-anchor=\"middle\" x=\"1146.94\" y=\"-101.3\" font-family=\"Times,serif\" font-size=\"14.00\">country&lt;137</text>\n",
       "</g>\n",
       "<!-- 10&#45;&gt;20 -->\n",
       "<g id=\"edge16\" class=\"edge\">\n",
       "<title>10&#45;&gt;20</title>\n",
       "<path fill=\"none\" stroke=\"#ff0000\" d=\"M1058.19,-175.21C1075.14,-162 1099.51,-142.99 1118.44,-128.23\"/>\n",
       "<polygon fill=\"#ff0000\" stroke=\"#ff0000\" points=\"1120.7,-130.9 1126.43,-121.99 1116.4,-125.38 1120.7,-130.9\"/>\n",
       "<text text-anchor=\"middle\" x=\"1106.94\" y=\"-144.8\" font-family=\"Times,serif\" font-size=\"14.00\">no</text>\n",
       "</g>\n",
       "<!-- 29 -->\n",
       "<g id=\"node12\" class=\"node\">\n",
       "<title>29</title>\n",
       "<ellipse fill=\"none\" stroke=\"black\" cx=\"79.94\" cy=\"-18\" rx=\"79.89\" ry=\"18\"/>\n",
       "<text text-anchor=\"middle\" x=\"79.94\" y=\"-14.3\" font-family=\"Times,serif\" font-size=\"14.00\">leaf=0.0212206393</text>\n",
       "</g>\n",
       "<!-- 17&#45;&gt;29 -->\n",
       "<g id=\"edge11\" class=\"edge\">\n",
       "<title>17&#45;&gt;29</title>\n",
       "<path fill=\"none\" stroke=\"#0000ff\" d=\"M226.04,-87.61C196.44,-73.71 153.87,-53.72 122.32,-38.9\"/>\n",
       "<polygon fill=\"#0000ff\" stroke=\"#0000ff\" points=\"123.44,-35.56 112.9,-34.48 120.47,-41.9 123.44,-35.56\"/>\n",
       "<text text-anchor=\"middle\" x=\"216.44\" y=\"-57.8\" font-family=\"Times,serif\" font-size=\"14.00\">yes, missing</text>\n",
       "</g>\n",
       "<!-- 30 -->\n",
       "<g id=\"node13\" class=\"node\">\n",
       "<title>30</title>\n",
       "<ellipse fill=\"none\" stroke=\"black\" cx=\"260.94\" cy=\"-18\" rx=\"83.39\" ry=\"18\"/>\n",
       "<text text-anchor=\"middle\" x=\"260.94\" y=\"-14.3\" font-family=\"Times,serif\" font-size=\"14.00\">leaf=&#45;0.0319312066</text>\n",
       "</g>\n",
       "<!-- 17&#45;&gt;30 -->\n",
       "<g id=\"edge12\" class=\"edge\">\n",
       "<title>17&#45;&gt;30</title>\n",
       "<path fill=\"none\" stroke=\"#ff0000\" d=\"M260.94,-86.8C260.94,-75.16 260.94,-59.55 260.94,-46.24\"/>\n",
       "<polygon fill=\"#ff0000\" stroke=\"#ff0000\" points=\"264.44,-46.18 260.94,-36.18 257.44,-46.18 264.44,-46.18\"/>\n",
       "<text text-anchor=\"middle\" x=\"267.94\" y=\"-57.8\" font-family=\"Times,serif\" font-size=\"14.00\">no</text>\n",
       "</g>\n",
       "<!-- 31 -->\n",
       "<g id=\"node14\" class=\"node\">\n",
       "<title>31</title>\n",
       "<ellipse fill=\"none\" stroke=\"black\" cx=\"433.94\" cy=\"-18\" rx=\"71.49\" ry=\"18\"/>\n",
       "<text text-anchor=\"middle\" x=\"433.94\" y=\"-14.3\" font-family=\"Times,serif\" font-size=\"14.00\">leaf=0.28795597</text>\n",
       "</g>\n",
       "<!-- 18&#45;&gt;31 -->\n",
       "<g id=\"edge13\" class=\"edge\">\n",
       "<title>18&#45;&gt;31</title>\n",
       "<path fill=\"none\" stroke=\"#0000ff\" d=\"M507.83,-88.01C494.15,-75.24 474.77,-57.14 459.29,-42.68\"/>\n",
       "<polygon fill=\"#0000ff\" stroke=\"#0000ff\" points=\"461.3,-39.76 451.6,-35.5 456.52,-44.88 461.3,-39.76\"/>\n",
       "<text text-anchor=\"middle\" x=\"519.44\" y=\"-57.8\" font-family=\"Times,serif\" font-size=\"14.00\">yes, missing</text>\n",
       "</g>\n",
       "<!-- 32 -->\n",
       "<g id=\"node15\" class=\"node\">\n",
       "<title>32</title>\n",
       "<ellipse fill=\"none\" stroke=\"black\" cx=\"610.94\" cy=\"-18\" rx=\"87.18\" ry=\"18\"/>\n",
       "<text text-anchor=\"middle\" x=\"610.94\" y=\"-14.3\" font-family=\"Times,serif\" font-size=\"14.00\">leaf=&#45;0.00900311302</text>\n",
       "</g>\n",
       "<!-- 18&#45;&gt;32 -->\n",
       "<g id=\"edge14\" class=\"edge\">\n",
       "<title>18&#45;&gt;32</title>\n",
       "<path fill=\"none\" stroke=\"#ff0000\" d=\"M541.12,-88.01C553.96,-75.32 572.12,-57.37 586.71,-42.96\"/>\n",
       "<polygon fill=\"#ff0000\" stroke=\"#ff0000\" points=\"589.3,-45.31 593.96,-35.79 584.38,-40.33 589.3,-45.31\"/>\n",
       "<text text-anchor=\"middle\" x=\"580.94\" y=\"-57.8\" font-family=\"Times,serif\" font-size=\"14.00\">no</text>\n",
       "</g>\n",
       "<!-- 33 -->\n",
       "<g id=\"node18\" class=\"node\">\n",
       "<title>33</title>\n",
       "<ellipse fill=\"none\" stroke=\"black\" cx=\"794.94\" cy=\"-18\" rx=\"78.79\" ry=\"18\"/>\n",
       "<text text-anchor=\"middle\" x=\"794.94\" y=\"-14.3\" font-family=\"Times,serif\" font-size=\"14.00\">leaf=&#45;0.286010951</text>\n",
       "</g>\n",
       "<!-- 19&#45;&gt;33 -->\n",
       "<g id=\"edge17\" class=\"edge\">\n",
       "<title>19&#45;&gt;33</title>\n",
       "<path fill=\"none\" stroke=\"#0000ff\" d=\"M936.84,-88.21C924.33,-82.21 909.97,-75.32 896.94,-69 876.75,-59.21 854.36,-48.25 835.71,-39.09\"/>\n",
       "<polygon fill=\"#0000ff\" stroke=\"#0000ff\" points=\"837.13,-35.88 826.61,-34.61 834.04,-42.16 837.13,-35.88\"/>\n",
       "<text text-anchor=\"middle\" x=\"931.44\" y=\"-57.8\" font-family=\"Times,serif\" font-size=\"14.00\">yes, missing</text>\n",
       "</g>\n",
       "<!-- 34 -->\n",
       "<g id=\"node19\" class=\"node\">\n",
       "<title>34</title>\n",
       "<ellipse fill=\"none\" stroke=\"black\" cx=\"969.94\" cy=\"-18\" rx=\"78.79\" ry=\"18\"/>\n",
       "<text text-anchor=\"middle\" x=\"969.94\" y=\"-14.3\" font-family=\"Times,serif\" font-size=\"14.00\">leaf=&#45;0.507677495</text>\n",
       "</g>\n",
       "<!-- 19&#45;&gt;34 -->\n",
       "<g id=\"edge18\" class=\"edge\">\n",
       "<title>19&#45;&gt;34</title>\n",
       "<path fill=\"none\" stroke=\"#ff0000\" d=\"M969.94,-86.8C969.94,-75.16 969.94,-59.55 969.94,-46.24\"/>\n",
       "<polygon fill=\"#ff0000\" stroke=\"#ff0000\" points=\"973.44,-46.18 969.94,-36.18 966.44,-46.18 973.44,-46.18\"/>\n",
       "<text text-anchor=\"middle\" x=\"976.94\" y=\"-57.8\" font-family=\"Times,serif\" font-size=\"14.00\">no</text>\n",
       "</g>\n",
       "<!-- 35 -->\n",
       "<g id=\"node20\" class=\"node\">\n",
       "<title>35</title>\n",
       "<ellipse fill=\"none\" stroke=\"black\" cx=\"1146.94\" cy=\"-18\" rx=\"79.89\" ry=\"18\"/>\n",
       "<text text-anchor=\"middle\" x=\"1146.94\" y=\"-14.3\" font-family=\"Times,serif\" font-size=\"14.00\">leaf=0.0456925146</text>\n",
       "</g>\n",
       "<!-- 20&#45;&gt;35 -->\n",
       "<g id=\"edge19\" class=\"edge\">\n",
       "<title>20&#45;&gt;35</title>\n",
       "<path fill=\"none\" stroke=\"#0000ff\" d=\"M1146.94,-86.8C1146.94,-75.16 1146.94,-59.55 1146.94,-46.24\"/>\n",
       "<polygon fill=\"#0000ff\" stroke=\"#0000ff\" points=\"1150.44,-46.18 1146.94,-36.18 1143.44,-46.18 1150.44,-46.18\"/>\n",
       "<text text-anchor=\"middle\" x=\"1181.44\" y=\"-57.8\" font-family=\"Times,serif\" font-size=\"14.00\">yes, missing</text>\n",
       "</g>\n",
       "<!-- 36 -->\n",
       "<g id=\"node21\" class=\"node\">\n",
       "<title>36</title>\n",
       "<ellipse fill=\"none\" stroke=\"black\" cx=\"1323.94\" cy=\"-18\" rx=\"78.79\" ry=\"18\"/>\n",
       "<text text-anchor=\"middle\" x=\"1323.94\" y=\"-14.3\" font-family=\"Times,serif\" font-size=\"14.00\">leaf=&#45;0.330130517</text>\n",
       "</g>\n",
       "<!-- 20&#45;&gt;36 -->\n",
       "<g id=\"edge20\" class=\"edge\">\n",
       "<title>20&#45;&gt;36</title>\n",
       "<path fill=\"none\" stroke=\"#ff0000\" d=\"M1176.78,-89.7C1190.01,-83.36 1205.75,-75.81 1219.94,-69 1240.59,-59.09 1263.53,-48.06 1282.6,-38.89\"/>\n",
       "<polygon fill=\"#ff0000\" stroke=\"#ff0000\" points=\"1284.13,-42.04 1291.62,-34.55 1281.09,-35.73 1284.13,-42.04\"/>\n",
       "<text text-anchor=\"middle\" x=\"1255.94\" y=\"-57.8\" font-family=\"Times,serif\" font-size=\"14.00\">no</text>\n",
       "</g>\n",
       "<!-- 21 -->\n",
       "<g id=\"node24\" class=\"node\">\n",
       "<title>21</title>\n",
       "<ellipse fill=\"none\" stroke=\"black\" cx=\"1678.94\" cy=\"-105\" rx=\"96.68\" ry=\"18\"/>\n",
       "<text text-anchor=\"middle\" x=\"1678.94\" y=\"-101.3\" font-family=\"Times,serif\" font-size=\"14.00\">arrival_date_month&lt;4.5</text>\n",
       "</g>\n",
       "<!-- 11&#45;&gt;21 -->\n",
       "<g id=\"edge23\" class=\"edge\">\n",
       "<title>11&#45;&gt;21</title>\n",
       "<path fill=\"none\" stroke=\"#0000ff\" d=\"M1888.21,-177.44C1846.17,-163.08 1779.56,-140.35 1732.81,-124.39\"/>\n",
       "<polygon fill=\"#0000ff\" stroke=\"#0000ff\" points=\"1733.74,-121.01 1723.15,-121.09 1731.48,-127.63 1733.74,-121.01\"/>\n",
       "<text text-anchor=\"middle\" x=\"1853.44\" y=\"-144.8\" font-family=\"Times,serif\" font-size=\"14.00\">yes, missing</text>\n",
       "</g>\n",
       "<!-- 22 -->\n",
       "<g id=\"node25\" class=\"node\">\n",
       "<title>22</title>\n",
       "<ellipse fill=\"none\" stroke=\"black\" cx=\"1927.94\" cy=\"-105\" rx=\"86.38\" ry=\"18\"/>\n",
       "<text text-anchor=\"middle\" x=\"1927.94\" y=\"-101.3\" font-family=\"Times,serif\" font-size=\"14.00\">arrival_date_year&lt;18</text>\n",
       "</g>\n",
       "<!-- 11&#45;&gt;22 -->\n",
       "<g id=\"edge24\" class=\"edge\">\n",
       "<title>11&#45;&gt;22</title>\n",
       "<path fill=\"none\" stroke=\"#ff0000\" d=\"M1927.94,-173.8C1927.94,-162.16 1927.94,-146.55 1927.94,-133.24\"/>\n",
       "<polygon fill=\"#ff0000\" stroke=\"#ff0000\" points=\"1931.44,-133.18 1927.94,-123.18 1924.44,-133.18 1931.44,-133.18\"/>\n",
       "<text text-anchor=\"middle\" x=\"1934.94\" y=\"-144.8\" font-family=\"Times,serif\" font-size=\"14.00\">no</text>\n",
       "</g>\n",
       "<!-- 23 -->\n",
       "<g id=\"node30\" class=\"node\">\n",
       "<title>23</title>\n",
       "<ellipse fill=\"none\" stroke=\"black\" cx=\"2328.94\" cy=\"-105\" rx=\"86.38\" ry=\"18\"/>\n",
       "<text text-anchor=\"middle\" x=\"2328.94\" y=\"-101.3\" font-family=\"Times,serif\" font-size=\"14.00\">market_segment&lt;3.5</text>\n",
       "</g>\n",
       "<!-- 12&#45;&gt;23 -->\n",
       "<g id=\"edge29\" class=\"edge\">\n",
       "<title>12&#45;&gt;23</title>\n",
       "<path fill=\"none\" stroke=\"#0000ff\" d=\"M2328.94,-173.8C2328.94,-162.16 2328.94,-146.55 2328.94,-133.24\"/>\n",
       "<polygon fill=\"#0000ff\" stroke=\"#0000ff\" points=\"2332.44,-133.18 2328.94,-123.18 2325.44,-133.18 2332.44,-133.18\"/>\n",
       "<text text-anchor=\"middle\" x=\"2363.44\" y=\"-144.8\" font-family=\"Times,serif\" font-size=\"14.00\">yes, missing</text>\n",
       "</g>\n",
       "<!-- 24 -->\n",
       "<g id=\"node31\" class=\"node\">\n",
       "<title>24</title>\n",
       "<ellipse fill=\"none\" stroke=\"black\" cx=\"2524.94\" cy=\"-105\" rx=\"55.79\" ry=\"18\"/>\n",
       "<text text-anchor=\"middle\" x=\"2524.94\" y=\"-101.3\" font-family=\"Times,serif\" font-size=\"14.00\">country&lt;137</text>\n",
       "</g>\n",
       "<!-- 12&#45;&gt;24 -->\n",
       "<g id=\"edge30\" class=\"edge\">\n",
       "<title>12&#45;&gt;24</title>\n",
       "<path fill=\"none\" stroke=\"#ff0000\" d=\"M2360.87,-177.15C2394.33,-162.64 2447.02,-139.79 2483.63,-123.92\"/>\n",
       "<polygon fill=\"#ff0000\" stroke=\"#ff0000\" points=\"2485.25,-127.03 2493.03,-119.84 2482.46,-120.61 2485.25,-127.03\"/>\n",
       "<text text-anchor=\"middle\" x=\"2445.94\" y=\"-144.8\" font-family=\"Times,serif\" font-size=\"14.00\">no</text>\n",
       "</g>\n",
       "<!-- 37 -->\n",
       "<g id=\"node26\" class=\"node\">\n",
       "<title>37</title>\n",
       "<ellipse fill=\"none\" stroke=\"black\" cx=\"1498.94\" cy=\"-18\" rx=\"78.79\" ry=\"18\"/>\n",
       "<text text-anchor=\"middle\" x=\"1498.94\" y=\"-14.3\" font-family=\"Times,serif\" font-size=\"14.00\">leaf=&#45;0.172890037</text>\n",
       "</g>\n",
       "<!-- 21&#45;&gt;37 -->\n",
       "<g id=\"edge25\" class=\"edge\">\n",
       "<title>21&#45;&gt;37</title>\n",
       "<path fill=\"none\" stroke=\"#0000ff\" d=\"M1645.09,-88.01C1615.65,-74.11 1572.86,-53.9 1541.18,-38.95\"/>\n",
       "<polygon fill=\"#0000ff\" stroke=\"#0000ff\" points=\"1542.27,-35.59 1531.74,-34.49 1539.28,-41.92 1542.27,-35.59\"/>\n",
       "<text text-anchor=\"middle\" x=\"1634.44\" y=\"-57.8\" font-family=\"Times,serif\" font-size=\"14.00\">yes, missing</text>\n",
       "</g>\n",
       "<!-- 38 -->\n",
       "<g id=\"node27\" class=\"node\">\n",
       "<title>38</title>\n",
       "<ellipse fill=\"none\" stroke=\"black\" cx=\"1678.94\" cy=\"-18\" rx=\"83.39\" ry=\"18\"/>\n",
       "<text text-anchor=\"middle\" x=\"1678.94\" y=\"-14.3\" font-family=\"Times,serif\" font-size=\"14.00\">leaf=&#45;0.0824822038</text>\n",
       "</g>\n",
       "<!-- 21&#45;&gt;38 -->\n",
       "<g id=\"edge26\" class=\"edge\">\n",
       "<title>21&#45;&gt;38</title>\n",
       "<path fill=\"none\" stroke=\"#ff0000\" d=\"M1678.94,-86.8C1678.94,-75.16 1678.94,-59.55 1678.94,-46.24\"/>\n",
       "<polygon fill=\"#ff0000\" stroke=\"#ff0000\" points=\"1682.44,-46.18 1678.94,-36.18 1675.44,-46.18 1682.44,-46.18\"/>\n",
       "<text text-anchor=\"middle\" x=\"1685.94\" y=\"-57.8\" font-family=\"Times,serif\" font-size=\"14.00\">no</text>\n",
       "</g>\n",
       "<!-- 39 -->\n",
       "<g id=\"node28\" class=\"node\">\n",
       "<title>39</title>\n",
       "<ellipse fill=\"none\" stroke=\"black\" cx=\"1855.94\" cy=\"-18\" rx=\"75.29\" ry=\"18\"/>\n",
       "<text text-anchor=\"middle\" x=\"1855.94\" y=\"-14.3\" font-family=\"Times,serif\" font-size=\"14.00\">leaf=0.057310544</text>\n",
       "</g>\n",
       "<!-- 22&#45;&gt;39 -->\n",
       "<g id=\"edge27\" class=\"edge\">\n",
       "<title>22&#45;&gt;39</title>\n",
       "<path fill=\"none\" stroke=\"#0000ff\" d=\"M1913.72,-87.21C1903.17,-74.75 1888.62,-57.57 1876.76,-43.57\"/>\n",
       "<polygon fill=\"#0000ff\" stroke=\"#0000ff\" points=\"1879.27,-41.13 1870.14,-35.76 1873.93,-45.65 1879.27,-41.13\"/>\n",
       "<text text-anchor=\"middle\" x=\"1931.44\" y=\"-57.8\" font-family=\"Times,serif\" font-size=\"14.00\">yes, missing</text>\n",
       "</g>\n",
       "<!-- 40 -->\n",
       "<g id=\"node29\" class=\"node\">\n",
       "<title>40</title>\n",
       "<ellipse fill=\"none\" stroke=\"black\" cx=\"2020.94\" cy=\"-18\" rx=\"71.49\" ry=\"18\"/>\n",
       "<text text-anchor=\"middle\" x=\"2020.94\" y=\"-14.3\" font-family=\"Times,serif\" font-size=\"14.00\">leaf=0.17987527</text>\n",
       "</g>\n",
       "<!-- 22&#45;&gt;40 -->\n",
       "<g id=\"edge28\" class=\"edge\">\n",
       "<title>22&#45;&gt;40</title>\n",
       "<path fill=\"none\" stroke=\"#ff0000\" d=\"M1948.73,-87.24C1955.59,-81.56 1963.18,-75.11 1969.94,-69 1979.19,-60.64 1989.04,-51.13 1997.59,-42.67\"/>\n",
       "<polygon fill=\"#ff0000\" stroke=\"#ff0000\" points=\"2000.12,-45.1 2004.73,-35.56 1995.18,-40.14 2000.12,-45.1\"/>\n",
       "<text text-anchor=\"middle\" x=\"1992.94\" y=\"-57.8\" font-family=\"Times,serif\" font-size=\"14.00\">no</text>\n",
       "</g>\n",
       "<!-- 41 -->\n",
       "<g id=\"node32\" class=\"node\">\n",
       "<title>41</title>\n",
       "<ellipse fill=\"none\" stroke=\"black\" cx=\"2185.94\" cy=\"-18\" rx=\"75.29\" ry=\"18\"/>\n",
       "<text text-anchor=\"middle\" x=\"2185.94\" y=\"-14.3\" font-family=\"Times,serif\" font-size=\"14.00\">leaf=0.185746431</text>\n",
       "</g>\n",
       "<!-- 23&#45;&gt;41 -->\n",
       "<g id=\"edge31\" class=\"edge\">\n",
       "<title>23&#45;&gt;41</title>\n",
       "<path fill=\"none\" stroke=\"#0000ff\" d=\"M2300.1,-88.03C2289.61,-82.14 2277.69,-75.35 2266.94,-69 2251.39,-59.81 2234.35,-49.36 2219.93,-40.39\"/>\n",
       "<polygon fill=\"#0000ff\" stroke=\"#0000ff\" points=\"2221.66,-37.34 2211.32,-35.02 2217.96,-43.28 2221.66,-37.34\"/>\n",
       "<text text-anchor=\"middle\" x=\"2301.44\" y=\"-57.8\" font-family=\"Times,serif\" font-size=\"14.00\">yes, missing</text>\n",
       "</g>\n",
       "<!-- 42 -->\n",
       "<g id=\"node33\" class=\"node\">\n",
       "<title>42</title>\n",
       "<ellipse fill=\"none\" stroke=\"black\" cx=\"2352.94\" cy=\"-18\" rx=\"74.19\" ry=\"18\"/>\n",
       "<text text-anchor=\"middle\" x=\"2352.94\" y=\"-14.3\" font-family=\"Times,serif\" font-size=\"14.00\">leaf=&#45;0.32158947</text>\n",
       "</g>\n",
       "<!-- 23&#45;&gt;42 -->\n",
       "<g id=\"edge32\" class=\"edge\">\n",
       "<title>23&#45;&gt;42</title>\n",
       "<path fill=\"none\" stroke=\"#ff0000\" d=\"M2333.8,-86.8C2337.12,-75.05 2341.58,-59.24 2345.36,-45.84\"/>\n",
       "<polygon fill=\"#ff0000\" stroke=\"#ff0000\" points=\"2348.74,-46.75 2348.09,-36.18 2342.01,-44.85 2348.74,-46.75\"/>\n",
       "<text text-anchor=\"middle\" x=\"2349.94\" y=\"-57.8\" font-family=\"Times,serif\" font-size=\"14.00\">no</text>\n",
       "</g>\n",
       "<!-- 43 -->\n",
       "<g id=\"node34\" class=\"node\">\n",
       "<title>43</title>\n",
       "<ellipse fill=\"none\" stroke=\"black\" cx=\"2524.94\" cy=\"-18\" rx=\"79.89\" ry=\"18\"/>\n",
       "<text text-anchor=\"middle\" x=\"2524.94\" y=\"-14.3\" font-family=\"Times,serif\" font-size=\"14.00\">leaf=0.0295054819</text>\n",
       "</g>\n",
       "<!-- 24&#45;&gt;43 -->\n",
       "<g id=\"edge33\" class=\"edge\">\n",
       "<title>24&#45;&gt;43</title>\n",
       "<path fill=\"none\" stroke=\"#0000ff\" d=\"M2524.94,-86.8C2524.94,-75.16 2524.94,-59.55 2524.94,-46.24\"/>\n",
       "<polygon fill=\"#0000ff\" stroke=\"#0000ff\" points=\"2528.44,-46.18 2524.94,-36.18 2521.44,-46.18 2528.44,-46.18\"/>\n",
       "<text text-anchor=\"middle\" x=\"2559.44\" y=\"-57.8\" font-family=\"Times,serif\" font-size=\"14.00\">yes, missing</text>\n",
       "</g>\n",
       "<!-- 44 -->\n",
       "<g id=\"node35\" class=\"node\">\n",
       "<title>44</title>\n",
       "<ellipse fill=\"none\" stroke=\"black\" cx=\"2701.94\" cy=\"-18\" rx=\"78.79\" ry=\"18\"/>\n",
       "<text text-anchor=\"middle\" x=\"2701.94\" y=\"-14.3\" font-family=\"Times,serif\" font-size=\"14.00\">leaf=&#45;0.319722414</text>\n",
       "</g>\n",
       "<!-- 24&#45;&gt;44 -->\n",
       "<g id=\"edge34\" class=\"edge\">\n",
       "<title>24&#45;&gt;44</title>\n",
       "<path fill=\"none\" stroke=\"#ff0000\" d=\"M2554.78,-89.7C2568.01,-83.36 2583.75,-75.81 2597.94,-69 2618.59,-59.09 2641.53,-48.06 2660.6,-38.89\"/>\n",
       "<polygon fill=\"#ff0000\" stroke=\"#ff0000\" points=\"2662.13,-42.04 2669.62,-34.55 2659.09,-35.73 2662.13,-42.04\"/>\n",
       "<text text-anchor=\"middle\" x=\"2633.94\" y=\"-57.8\" font-family=\"Times,serif\" font-size=\"14.00\">no</text>\n",
       "</g>\n",
       "<!-- 13 -->\n",
       "<g id=\"node38\" class=\"node\">\n",
       "<title>13</title>\n",
       "<ellipse fill=\"none\" stroke=\"black\" cx=\"3046.94\" cy=\"-192\" rx=\"42.79\" ry=\"18\"/>\n",
       "<text text-anchor=\"middle\" x=\"3046.94\" y=\"-188.3\" font-family=\"Times,serif\" font-size=\"14.00\">adr&lt;65.5</text>\n",
       "</g>\n",
       "<!-- 7&#45;&gt;13 -->\n",
       "<g id=\"edge37\" class=\"edge\">\n",
       "<title>7&#45;&gt;13</title>\n",
       "<path fill=\"none\" stroke=\"#0000ff\" d=\"M3115.03,-263.81C3105.75,-257.96 3095.41,-250.73 3086.94,-243 3078.69,-235.47 3070.75,-226.14 3064.16,-217.6\"/>\n",
       "<polygon fill=\"#0000ff\" stroke=\"#0000ff\" points=\"3066.83,-215.32 3058.04,-209.4 3061.22,-219.51 3066.83,-215.32\"/>\n",
       "<text text-anchor=\"middle\" x=\"3121.44\" y=\"-231.8\" font-family=\"Times,serif\" font-size=\"14.00\">yes, missing</text>\n",
       "</g>\n",
       "<!-- 14 -->\n",
       "<g id=\"node39\" class=\"node\">\n",
       "<title>14</title>\n",
       "<ellipse fill=\"none\" stroke=\"black\" cx=\"3186.94\" cy=\"-192\" rx=\"78.79\" ry=\"18\"/>\n",
       "<text text-anchor=\"middle\" x=\"3186.94\" y=\"-188.3\" font-family=\"Times,serif\" font-size=\"14.00\">leaf=&#45;0.223652318</text>\n",
       "</g>\n",
       "<!-- 7&#45;&gt;14 -->\n",
       "<g id=\"edge38\" class=\"edge\">\n",
       "<title>7&#45;&gt;14</title>\n",
       "<path fill=\"none\" stroke=\"#ff0000\" d=\"M3149.23,-261.21C3155.88,-249.18 3164.96,-232.75 3172.55,-219.03\"/>\n",
       "<polygon fill=\"#ff0000\" stroke=\"#ff0000\" points=\"3175.74,-220.49 3177.52,-210.05 3169.61,-217.11 3175.74,-220.49\"/>\n",
       "<text text-anchor=\"middle\" x=\"3172.94\" y=\"-231.8\" font-family=\"Times,serif\" font-size=\"14.00\">no</text>\n",
       "</g>\n",
       "<!-- 15 -->\n",
       "<g id=\"node46\" class=\"node\">\n",
       "<title>15</title>\n",
       "<ellipse fill=\"none\" stroke=\"black\" cx=\"3413.94\" cy=\"-192\" rx=\"121.58\" ry=\"18\"/>\n",
       "<text text-anchor=\"middle\" x=\"3413.94\" y=\"-188.3\" font-family=\"Times,serif\" font-size=\"14.00\">arrival_date_week_number&lt;20</text>\n",
       "</g>\n",
       "<!-- 8&#45;&gt;15 -->\n",
       "<g id=\"edge45\" class=\"edge\">\n",
       "<title>8&#45;&gt;15</title>\n",
       "<path fill=\"none\" stroke=\"#0000ff\" d=\"M3413.94,-260.8C3413.94,-249.16 3413.94,-233.55 3413.94,-220.24\"/>\n",
       "<polygon fill=\"#0000ff\" stroke=\"#0000ff\" points=\"3417.44,-220.18 3413.94,-210.18 3410.44,-220.18 3417.44,-220.18\"/>\n",
       "<text text-anchor=\"middle\" x=\"3448.44\" y=\"-231.8\" font-family=\"Times,serif\" font-size=\"14.00\">yes, missing</text>\n",
       "</g>\n",
       "<!-- 16 -->\n",
       "<g id=\"node47\" class=\"node\">\n",
       "<title>16</title>\n",
       "<ellipse fill=\"none\" stroke=\"black\" cx=\"3628.94\" cy=\"-192\" rx=\"75.29\" ry=\"18\"/>\n",
       "<text text-anchor=\"middle\" x=\"3628.94\" y=\"-188.3\" font-family=\"Times,serif\" font-size=\"14.00\">leaf=0.304910988</text>\n",
       "</g>\n",
       "<!-- 8&#45;&gt;16 -->\n",
       "<g id=\"edge46\" class=\"edge\">\n",
       "<title>8&#45;&gt;16</title>\n",
       "<path fill=\"none\" stroke=\"#ff0000\" d=\"M3449.93,-263.77C3486.26,-249.41 3542.54,-227.16 3582.28,-211.45\"/>\n",
       "<polygon fill=\"#ff0000\" stroke=\"#ff0000\" points=\"3583.74,-214.63 3591.76,-207.7 3581.17,-208.12 3583.74,-214.63\"/>\n",
       "<text text-anchor=\"middle\" x=\"3540.94\" y=\"-231.8\" font-family=\"Times,serif\" font-size=\"14.00\">no</text>\n",
       "</g>\n",
       "<!-- 25 -->\n",
       "<g id=\"node40\" class=\"node\">\n",
       "<title>25</title>\n",
       "<ellipse fill=\"none\" stroke=\"black\" cx=\"3026.94\" cy=\"-105\" rx=\"81.79\" ry=\"18\"/>\n",
       "<text text-anchor=\"middle\" x=\"3026.94\" y=\"-101.3\" font-family=\"Times,serif\" font-size=\"14.00\">arrival_date_year&lt;6</text>\n",
       "</g>\n",
       "<!-- 13&#45;&gt;25 -->\n",
       "<g id=\"edge39\" class=\"edge\">\n",
       "<title>13&#45;&gt;25</title>\n",
       "<path fill=\"none\" stroke=\"#0000ff\" d=\"M3042.9,-173.8C3040.16,-162.16 3036.48,-146.55 3033.35,-133.24\"/>\n",
       "<polygon fill=\"#0000ff\" stroke=\"#0000ff\" points=\"3036.68,-132.11 3030.98,-123.18 3029.87,-133.71 3036.68,-132.11\"/>\n",
       "<text text-anchor=\"middle\" x=\"3073.44\" y=\"-144.8\" font-family=\"Times,serif\" font-size=\"14.00\">yes, missing</text>\n",
       "</g>\n",
       "<!-- 26 -->\n",
       "<g id=\"node41\" class=\"node\">\n",
       "<title>26</title>\n",
       "<ellipse fill=\"none\" stroke=\"black\" cx=\"3219.94\" cy=\"-105\" rx=\"92.88\" ry=\"18\"/>\n",
       "<text text-anchor=\"middle\" x=\"3219.94\" y=\"-101.3\" font-family=\"Times,serif\" font-size=\"14.00\">reserved_room_type&lt;2</text>\n",
       "</g>\n",
       "<!-- 13&#45;&gt;26 -->\n",
       "<g id=\"edge40\" class=\"edge\">\n",
       "<title>13&#45;&gt;26</title>\n",
       "<path fill=\"none\" stroke=\"#ff0000\" d=\"M3073.97,-177.72C3101.91,-163.99 3145.89,-142.38 3178.28,-126.47\"/>\n",
       "<polygon fill=\"#ff0000\" stroke=\"#ff0000\" points=\"3180.07,-129.49 3187.5,-121.94 3176.99,-123.21 3180.07,-129.49\"/>\n",
       "<text text-anchor=\"middle\" x=\"3149.94\" y=\"-144.8\" font-family=\"Times,serif\" font-size=\"14.00\">no</text>\n",
       "</g>\n",
       "<!-- 45 -->\n",
       "<g id=\"node42\" class=\"node\">\n",
       "<title>45</title>\n",
       "<ellipse fill=\"none\" stroke=\"black\" cx=\"2873.94\" cy=\"-18\" rx=\"75.29\" ry=\"18\"/>\n",
       "<text text-anchor=\"middle\" x=\"2873.94\" y=\"-14.3\" font-family=\"Times,serif\" font-size=\"14.00\">leaf=0.116825014</text>\n",
       "</g>\n",
       "<!-- 25&#45;&gt;45 -->\n",
       "<g id=\"edge41\" class=\"edge\">\n",
       "<title>25&#45;&gt;45</title>\n",
       "<path fill=\"none\" stroke=\"#0000ff\" d=\"M2997.59,-88.04C2986.7,-82.09 2974.24,-75.26 2962.94,-69 2945.84,-59.52 2926.94,-48.92 2910.98,-39.93\"/>\n",
       "<polygon fill=\"#0000ff\" stroke=\"#0000ff\" points=\"2912.39,-36.71 2901.96,-34.85 2908.95,-42.8 2912.39,-36.71\"/>\n",
       "<text text-anchor=\"middle\" x=\"2997.44\" y=\"-57.8\" font-family=\"Times,serif\" font-size=\"14.00\">yes, missing</text>\n",
       "</g>\n",
       "<!-- 46 -->\n",
       "<g id=\"node43\" class=\"node\">\n",
       "<title>46</title>\n",
       "<ellipse fill=\"none\" stroke=\"black\" cx=\"3045.94\" cy=\"-18\" rx=\"78.79\" ry=\"18\"/>\n",
       "<text text-anchor=\"middle\" x=\"3045.94\" y=\"-14.3\" font-family=\"Times,serif\" font-size=\"14.00\">leaf=&#45;0.231629819</text>\n",
       "</g>\n",
       "<!-- 25&#45;&gt;46 -->\n",
       "<g id=\"edge42\" class=\"edge\">\n",
       "<title>25&#45;&gt;46</title>\n",
       "<path fill=\"none\" stroke=\"#ff0000\" d=\"M3030.79,-86.8C3033.39,-75.16 3036.88,-59.55 3039.85,-46.24\"/>\n",
       "<polygon fill=\"#ff0000\" stroke=\"#ff0000\" points=\"3043.34,-46.7 3042.1,-36.18 3036.51,-45.17 3043.34,-46.7\"/>\n",
       "<text text-anchor=\"middle\" x=\"3044.94\" y=\"-57.8\" font-family=\"Times,serif\" font-size=\"14.00\">no</text>\n",
       "</g>\n",
       "<!-- 47 -->\n",
       "<g id=\"node44\" class=\"node\">\n",
       "<title>47</title>\n",
       "<ellipse fill=\"none\" stroke=\"black\" cx=\"3217.94\" cy=\"-18\" rx=\"75.29\" ry=\"18\"/>\n",
       "<text text-anchor=\"middle\" x=\"3217.94\" y=\"-14.3\" font-family=\"Times,serif\" font-size=\"14.00\">leaf=0.286609232</text>\n",
       "</g>\n",
       "<!-- 26&#45;&gt;47 -->\n",
       "<g id=\"edge43\" class=\"edge\">\n",
       "<title>26&#45;&gt;47</title>\n",
       "<path fill=\"none\" stroke=\"#0000ff\" d=\"M3219.54,-86.8C3219.26,-75.16 3218.9,-59.55 3218.58,-46.24\"/>\n",
       "<polygon fill=\"#0000ff\" stroke=\"#0000ff\" points=\"3222.08,-46.09 3218.35,-36.18 3215.08,-46.26 3222.08,-46.09\"/>\n",
       "<text text-anchor=\"middle\" x=\"3253.44\" y=\"-57.8\" font-family=\"Times,serif\" font-size=\"14.00\">yes, missing</text>\n",
       "</g>\n",
       "<!-- 48 -->\n",
       "<g id=\"node45\" class=\"node\">\n",
       "<title>48</title>\n",
       "<ellipse fill=\"none\" stroke=\"black\" cx=\"3390.94\" cy=\"-18\" rx=\"79.89\" ry=\"18\"/>\n",
       "<text text-anchor=\"middle\" x=\"3390.94\" y=\"-14.3\" font-family=\"Times,serif\" font-size=\"14.00\">leaf=0.0735460222</text>\n",
       "</g>\n",
       "<!-- 26&#45;&gt;48 -->\n",
       "<g id=\"edge44\" class=\"edge\">\n",
       "<title>26&#45;&gt;48</title>\n",
       "<path fill=\"none\" stroke=\"#ff0000\" d=\"M3252.97,-88.07C3265.23,-82.13 3279.24,-75.29 3291.94,-69 3311.48,-59.32 3333.11,-48.42 3351.15,-39.27\"/>\n",
       "<polygon fill=\"#ff0000\" stroke=\"#ff0000\" points=\"3352.9,-42.31 3360.23,-34.66 3349.73,-36.07 3352.9,-42.31\"/>\n",
       "<text text-anchor=\"middle\" x=\"3328.94\" y=\"-57.8\" font-family=\"Times,serif\" font-size=\"14.00\">no</text>\n",
       "</g>\n",
       "<!-- 27 -->\n",
       "<g id=\"node48\" class=\"node\">\n",
       "<title>27</title>\n",
       "<ellipse fill=\"none\" stroke=\"black\" cx=\"3413.94\" cy=\"-105\" rx=\"78.79\" ry=\"18\"/>\n",
       "<text text-anchor=\"middle\" x=\"3413.94\" y=\"-101.3\" font-family=\"Times,serif\" font-size=\"14.00\">leaf=&#45;0.197299764</text>\n",
       "</g>\n",
       "<!-- 15&#45;&gt;27 -->\n",
       "<g id=\"edge47\" class=\"edge\">\n",
       "<title>15&#45;&gt;27</title>\n",
       "<path fill=\"none\" stroke=\"#0000ff\" d=\"M3413.94,-173.8C3413.94,-162.16 3413.94,-146.55 3413.94,-133.24\"/>\n",
       "<polygon fill=\"#0000ff\" stroke=\"#0000ff\" points=\"3417.44,-133.18 3413.94,-123.18 3410.44,-133.18 3417.44,-133.18\"/>\n",
       "<text text-anchor=\"middle\" x=\"3448.44\" y=\"-144.8\" font-family=\"Times,serif\" font-size=\"14.00\">yes, missing</text>\n",
       "</g>\n",
       "<!-- 28 -->\n",
       "<g id=\"node49\" class=\"node\">\n",
       "<title>28</title>\n",
       "<ellipse fill=\"none\" stroke=\"black\" cx=\"3563.94\" cy=\"-105\" rx=\"50.89\" ry=\"18\"/>\n",
       "<text text-anchor=\"middle\" x=\"3563.94\" y=\"-101.3\" font-family=\"Times,serif\" font-size=\"14.00\">agent&lt;33.5</text>\n",
       "</g>\n",
       "<!-- 15&#45;&gt;28 -->\n",
       "<g id=\"edge48\" class=\"edge\">\n",
       "<title>15&#45;&gt;28</title>\n",
       "<path fill=\"none\" stroke=\"#ff0000\" d=\"M3450.43,-174.64C3462.24,-169.04 3475.3,-162.54 3486.94,-156 3502.56,-147.23 3519.31,-136.53 3533.18,-127.27\"/>\n",
       "<polygon fill=\"#ff0000\" stroke=\"#ff0000\" points=\"3535.5,-129.93 3541.84,-121.44 3531.59,-124.12 3535.5,-129.93\"/>\n",
       "<text text-anchor=\"middle\" x=\"3516.94\" y=\"-144.8\" font-family=\"Times,serif\" font-size=\"14.00\">no</text>\n",
       "</g>\n",
       "<!-- 49 -->\n",
       "<g id=\"node50\" class=\"node\">\n",
       "<title>49</title>\n",
       "<ellipse fill=\"none\" stroke=\"black\" cx=\"3563.94\" cy=\"-18\" rx=\"75.29\" ry=\"18\"/>\n",
       "<text text-anchor=\"middle\" x=\"3563.94\" y=\"-14.3\" font-family=\"Times,serif\" font-size=\"14.00\">leaf=0.239968583</text>\n",
       "</g>\n",
       "<!-- 28&#45;&gt;49 -->\n",
       "<g id=\"edge49\" class=\"edge\">\n",
       "<title>28&#45;&gt;49</title>\n",
       "<path fill=\"none\" stroke=\"#0000ff\" d=\"M3563.94,-86.8C3563.94,-75.16 3563.94,-59.55 3563.94,-46.24\"/>\n",
       "<polygon fill=\"#0000ff\" stroke=\"#0000ff\" points=\"3567.44,-46.18 3563.94,-36.18 3560.44,-46.18 3567.44,-46.18\"/>\n",
       "<text text-anchor=\"middle\" x=\"3598.44\" y=\"-57.8\" font-family=\"Times,serif\" font-size=\"14.00\">yes, missing</text>\n",
       "</g>\n",
       "<!-- 50 -->\n",
       "<g id=\"node51\" class=\"node\">\n",
       "<title>50</title>\n",
       "<ellipse fill=\"none\" stroke=\"black\" cx=\"3736.94\" cy=\"-18\" rx=\"79.89\" ry=\"18\"/>\n",
       "<text text-anchor=\"middle\" x=\"3736.94\" y=\"-14.3\" font-family=\"Times,serif\" font-size=\"14.00\">leaf=0.0464789681</text>\n",
       "</g>\n",
       "<!-- 28&#45;&gt;50 -->\n",
       "<g id=\"edge50\" class=\"edge\">\n",
       "<title>28&#45;&gt;50</title>\n",
       "<path fill=\"none\" stroke=\"#ff0000\" d=\"M3593.12,-90.14C3606.5,-83.76 3622.55,-76.05 3636.94,-69 3656.69,-59.33 3678.53,-48.43 3696.76,-39.28\"/>\n",
       "<polygon fill=\"#ff0000\" stroke=\"#ff0000\" points=\"3698.57,-42.29 3705.93,-34.67 3695.42,-36.04 3698.57,-42.29\"/>\n",
       "<text text-anchor=\"middle\" x=\"3673.94\" y=\"-57.8\" font-family=\"Times,serif\" font-size=\"14.00\">no</text>\n",
       "</g>\n",
       "</g>\n",
       "</svg>\n"
      ],
      "text/plain": [
       "<graphviz.sources.Source at 0x7f5a4eba9438>"
      ]
     },
     "execution_count": 20,
     "metadata": {},
     "output_type": "execute_result"
    }
   ],
   "source": [
    "### Ex-4-Task-1\n",
    "from xgboost import plot_tree, to_graphviz\n",
    "\n",
    "\n",
    "# Plot the tree\n",
    "\n",
    "### BEGIN SOLUTION\n",
    "to_graphviz(xgb, num_trees = 19)\n",
    "### END SOLUTION"
   ]
  },
  {
   "cell_type": "markdown",
   "metadata": {
    "id": "k8q56l8mwsJT",
    "nbgrader": {
     "grade": false,
     "grade_id": "cell-265ab053a0a86503",
     "locked": true,
     "schema_version": 3,
     "solution": false,
     "task": false
    }
   },
   "source": [
    "#### Q1: Based on the tree plotted above, which of the following feature is a root node in the 20th tree?\n",
    "<b><div style=\"text-align: right\">[UNGRADED]</div></b>\n",
    "\n",
    "---\n",
    "Select the best option.\n",
    "\n",
    "1. deposit_type\n",
    "\n",
    "2. adr\n",
    "\n",
    "3. net_booking_cancelled\n",
    "\n",
    "4. required_car_parking_spaces\n",
    "\n",
    "5. total_of_special_requests\n",
    "\n",
    "\n",
    "__Task:__\n",
    "You just need to put the correct option number on the variable `correct_option1`.\n",
    "If your answer is deposit_type, assign `correct_option1 = 1` and so on."
   ]
  },
  {
   "cell_type": "code",
   "execution_count": null,
   "metadata": {
    "id": "iRdTM9nUwsJV",
    "nbgrader": {
     "grade": false,
     "grade_id": "cell-ccab3ae4d6d9cbfa",
     "locked": false,
     "schema_version": 3,
     "solution": true,
     "task": false
    },
    "tags": [
     "Ex-4-Task-2"
    ]
   },
   "outputs": [],
   "source": [
    "### Ex-4-Task-2\n",
    "correct_option1 = None\n",
    "### BEGIN SOLUTION\n",
    "correct_option1 = 4\n",
    "### END SOLUTION"
   ]
  },
  {
   "cell_type": "code",
   "execution_count": null,
   "metadata": {
    "id": "_e2b1h8JwsJb",
    "nbgrader": {
     "grade": true,
     "grade_id": "cell-45cc414e80d2f81c",
     "locked": true,
     "points": 0,
     "schema_version": 3,
     "solution": false,
     "task": false
    },
    "tags": [
     "Ex-4-Task-2"
    ]
   },
   "outputs": [],
   "source": [
    "assert correct_option1 is not None\n",
    "### BEGIN HIDDEN TESTS\n",
    "assert(correct_option1 == 4)\n",
    "### END HIDDEN TESTS"
   ]
  },
  {
   "cell_type": "markdown",
   "metadata": {
    "id": "C0bjxiIhwsJg",
    "nbgrader": {
     "grade": false,
     "grade_id": "cell-242babac02f7b8d7",
     "locked": true,
     "schema_version": 3,
     "solution": false,
     "task": false
    }
   },
   "source": [
    "### Feature importance\n",
    "\n",
    "### Exercise 5: Plot the feature importance\n",
    "<b><div style=\"text-align: right\">[UNGRADED]</div></b>\n",
    "\n",
    "---\n",
    "XGBoost provides the `feature_importance()` method to plot the importance of each feature. Based on the feature_importance plot, you need to answer the quiz below.\n",
    "\n",
    "**Task:** \n",
    "-  Plot the feature importance of the model `xgb`.\n",
    "\n"
   ]
  },
  {
   "cell_type": "code",
   "execution_count": null,
   "metadata": {
    "id": "Ed50WkR6wsJi",
    "nbgrader": {
     "grade": false,
     "grade_id": "cell-592367a614fc5be2",
     "locked": false,
     "schema_version": 3,
     "solution": true,
     "task": false
    },
    "outputId": "159903b1-5db8-4bb3-d842-6b1780d8a913",
    "scrolled": false,
    "tags": [
     "Ex-5-Task-1"
    ]
   },
   "outputs": [
    {
     "data": {
      "image/png": "[encoded data removed]",
      "text/plain": [
       "<Figure size 3000x1800 with 1 Axes>"
      ]
     },
     "metadata": {
      "needs_background": "light"
     },
     "output_type": "display_data"
    }
   ],
   "source": [
    "### Ex-5-Task-1\n",
    "from xgboost import plot_importance\n",
    "fig, ax = plt.subplots(figsize=(10,6), dpi=300)\n",
    "None # plot_importance(.....)\n",
    "### BEGIN SOLUTION\n",
    "plot_importance(xgb, ax = ax, importance_type = 'gain')\n",
    "### END SOLUTION\n",
    "plt.show()"
   ]
  },
  {
   "cell_type": "markdown",
   "metadata": {
    "id": "bf1yeatOwsJm",
    "nbgrader": {
     "grade": false,
     "grade_id": "cell-6c179d84151f969f",
     "locked": true,
     "schema_version": 3,
     "solution": false,
     "task": false
    }
   },
   "source": [
    "#### Q2: Based on the gain, which of the following is the most important feature?\n",
    "<b><div style=\"text-align: right\">[UNGRADED]</div></b>\n",
    "\n",
    "\n",
    "---\n",
    "Select the best option.\n",
    "\n",
    "1. lead_time\n",
    "\n",
    "2. country\n",
    "\n",
    "3. adr\n",
    "\n",
    "4. net_booking_cancelled\n",
    "\n",
    "5. required_car_parking_spaces\n",
    "\n",
    "6. deposit_type\n",
    "\n",
    "\n",
    "__Task:__\n",
    "You just need to put the correct option number on the variable `correct_option2`.\n",
    "If your answer is lead_time, assign `correct_option2 = 1` and so on."
   ]
  },
  {
   "cell_type": "code",
   "execution_count": null,
   "metadata": {
    "id": "9FsVeR4uwsJr",
    "nbgrader": {
     "grade": false,
     "grade_id": "cell-23b208ba0033d71a",
     "locked": false,
     "schema_version": 3,
     "solution": true,
     "task": false
    },
    "tags": [
     "Ex-5-Task-2"
    ]
   },
   "outputs": [],
   "source": [
    "### Ex-5-Task-2\n",
    "correct_option2 = None\n",
    "### BEGIN SOLUTION\n",
    "correct_option2 = 6\n",
    "### END SOLUTION"
   ]
  },
  {
   "cell_type": "code",
   "execution_count": null,
   "metadata": {
    "id": "MZ9XNIl7wsJ0",
    "nbgrader": {
     "grade": true,
     "grade_id": "cell-8548c5efe934897a",
     "locked": true,
     "points": 0,
     "schema_version": 3,
     "solution": false,
     "task": false
    },
    "tags": [
     "Ex-5-Task-2"
    ]
   },
   "outputs": [],
   "source": [
    "assert correct_option2 is not None\n",
    "### BEGIN HIDDEN TESTS\n",
    "assert(correct_option2 == 6)\n",
    "### END HIDDEN TESTS"
   ]
  },
  {
   "cell_type": "markdown",
   "metadata": {
    "id": "r4jBHfvEwsJ5"
   },
   "source": [
    "### Parallelization\n",
    "\n",
    "### Exercise 6: Multithreading\n",
    "<b><div style=\"text-align: right\">[UNGRADED]</div></b>\n",
    "\n",
    "---\n",
    "As already discussed in the theoretical part, XGBoost is known for parallelization and distributed computing. Here we are going to instantiate XGBoost with its support for multithreading. You can refer to the documentation of XGBoost on how to set the number of threads to the number of cores.\n",
    "\n",
    "**Task:**  \n",
    "- Instantiate a XGBClassifier() to variable `model` with __random_state__ set to RANDOM_STATE and set the number of threads to number of cores.\n",
    "\n"
   ]
  },
  {
   "cell_type": "code",
   "execution_count": null,
   "metadata": {
    "id": "4fxzfOVawsJ6",
    "nbgrader": {
     "grade": false,
     "grade_id": "cell-90c19bb67bce3a9c",
     "locked": false,
     "schema_version": 3,
     "solution": true,
     "task": false
    },
    "tags": [
     "Ex-6-Task-1"
    ]
   },
   "outputs": [],
   "source": [
    "### Ex-6-Task-1\n",
    "model = None\n",
    "### BEGIN SOLUTION\n",
    "model = XGBClassifier(random_state = RANDOM_STATE, n_jobs = -1)\n",
    "### END SOLUTION"
   ]
  },
  {
   "cell_type": "code",
   "execution_count": null,
   "metadata": {
    "id": "9ApKHxgqwsKA",
    "nbgrader": {
     "grade": true,
     "grade_id": "cell-77990162525d4207",
     "locked": true,
     "points": 0,
     "schema_version": 3,
     "solution": false,
     "task": false
    },
    "scrolled": true,
    "tags": [
     "Ex-6-Task-1"
    ]
   },
   "outputs": [],
   "source": [
    "### INTENTIONALLY LEFT BLANK\n",
    "### BEGIN HIDDEN TESTS\n",
    "assert model.n_jobs == -1, \"Set the number of threads to number of cores.\"\n",
    "### END HIDDEN TESTS"
   ]
  },
  {
   "cell_type": "markdown",
   "metadata": {
    "id": "UPh-UJB7wsKF",
    "nbgrader": {
     "grade": false,
     "grade_id": "cell-fa5f60ec3d43e6d5",
     "locked": true,
     "schema_version": 3,
     "solution": false,
     "task": false
    }
   },
   "source": [
    "### Performance Monitoring and learning curve\n",
    "\n",
    "For performance monitoring, we define a function `learning_curve()` which plots the log loss for each boosting iteration for training and validation dataset. \n",
    "\n",
    "Note: Here, test data is used for validation, but it is good practice to have a separate validation set."
   ]
  },
  {
   "cell_type": "code",
   "execution_count": null,
   "metadata": {
    "id": "pKJo8Fk3wsKF",
    "nbgrader": {
     "grade": false,
     "grade_id": "cell-8108ed82c8f44441",
     "locked": true,
     "schema_version": 3,
     "solution": false,
     "task": false
    },
    "scrolled": false
   },
   "outputs": [],
   "source": [
    "def learning_curve(model, X_train, y_train, X_test, y_test):\n",
    "    \"\"\"\n",
    "    A function to plot the learning curve.\n",
    "    \n",
    "    Paramters:\n",
    "    ---------\n",
    "    model: object\n",
    "           An object instantiated with XGBoost classifier\n",
    "    X_train: array like\n",
    "             Training features\n",
    "    y_train: array like\n",
    "             Training labels\n",
    "    X_test: array like\n",
    "            Validation features\n",
    "    y_test: array like\n",
    "            Validation labels\n",
    "            \n",
    "    Returns:\n",
    "    --------\n",
    "    None\n",
    "    \n",
    "            \n",
    "    \"\"\"\n",
    "    eval_set = [(X_train, y_train),(X_test, y_test)]\n",
    "    model.fit(X_train, y_train, eval_metric = [\"logloss\"], eval_set = eval_set, verbose = False)\n",
    "    print(\"F1 Score Train: \",f1_score(y_train, model.predict(X_train), average = 'weighted'))\n",
    "    print(\"F1 Score Test: \",f1_score(y_test, model.predict(X_test), average = 'weighted'))\n",
    "    results = model.evals_result()\n",
    "    num_tree = len(results['validation_0']['logloss'])\n",
    "    plt.figure(figsize = (8,8))\n",
    "    plt.plot(range(0, num_tree), results['validation_0']['logloss'], label = 'Training')\n",
    "    plt.plot(range(0, num_tree), results['validation_1']['logloss'], label = 'Validation')\n",
    "    plt.legend()\n",
    "    plt.xlabel(\"Number of trees\")\n",
    "    plt.ylabel(\"Log loss\")\n",
    "    plt.title(\"Learning Curve\")\n",
    "    plt.show()\n",
    "\n"
   ]
  },
  {
   "cell_type": "markdown",
   "metadata": {
    "id": "C56MY88twsKI",
    "nbgrader": {
     "grade": false,
     "grade_id": "cell-f63ef012dc1b7da3",
     "locked": true,
     "schema_version": 3,
     "solution": false,
     "task": false
    }
   },
   "source": [
    "### Exercise 7: Learning Curve\n",
    "<b><div style=\"text-align: right\">[UNGRADED]</div></b>\n",
    "\n",
    "---\n",
    "A function `learning_curve()` is defined above. Use this function to plot the learning curve for the training and validation dataset. Here we will be using the test set for validation.\n",
    "**Task:**  \n",
    "- Instantiate a XGBClassifier() to variable `model` with __n_estimators__ set to 100 , __max_depth__ set to 4, and __random_state__ set to RANDOM_STATE.\n",
    "-  Use the function `learning_curve()` to plot the learning curve of the model `xgb`. We have already instantiated `xgb` a few cells back.\n"
   ]
  },
  {
   "cell_type": "code",
   "execution_count": null,
   "metadata": {
    "id": "7aq5FtPYwsKJ",
    "nbgrader": {
     "grade": false,
     "grade_id": "cell-d3604250f303b2de",
     "locked": false,
     "schema_version": 3,
     "solution": true,
     "task": false
    },
    "outputId": "90ce3fe9-1a0e-46b6-fe0c-28e38999221f",
    "tags": [
     "Ex-7-Task-1"
    ]
   },
   "outputs": [
    {
     "name": "stderr",
     "output_type": "stream",
     "text": [
      "/home/zen/anaconda3/lib/python3.7/site-packages/xgboost/sklearn.py:797: UserWarning: `eval_metric` in `fit` method is deprecated for better compatibility with scikit-learn, use `eval_metric` in constructor or`set_params` instead.\n",
      "  UserWarning,\n"
     ]
    },
    {
     "name": "stdout",
     "output_type": "stream",
     "text": [
      "F1 Score Train:  0.8749134488863016\n",
      "F1 Score Test:  0.8679850722477894\n"
     ]
    },
    {
     "data": {
      "image/png": "[encoded data removed]",
      "text/plain": [
       "<Figure size 576x576 with 1 Axes>"
      ]
     },
     "metadata": {
      "needs_background": "light"
     },
     "output_type": "display_data"
    }
   ],
   "source": [
    "### Ex-7-Task-1\n",
    "model = None\n",
    "# Plot learning curve\n",
    "### BEGIN SOLUTION\n",
    "model = XGBClassifier(n_estimators = 100, max_depth =4, random_state = RANDOM_STATE)\n",
    "learning_curve(model, X_train, y_train, X_test, y_test)  \n",
    "### END SOLUTION"
   ]
  },
  {
   "cell_type": "markdown",
   "metadata": {
    "id": "inOMafAZwsKM",
    "nbgrader": {
     "grade": false,
     "grade_id": "cell-752ba7a103e50450",
     "locked": true,
     "schema_version": 3,
     "solution": false,
     "task": false
    }
   },
   "source": [
    "#### Q3: Recalling evaluation results of random forest trained few cells above and analyzing the above learning curve shows that our xgboost model is  ____?\n",
    "<b><div style=\"text-align: right\">[UNGRADED]</div></b>\n",
    "\n",
    "---\n",
    "Select the best option.\n",
    "\n",
    "1. optimally fitted\n",
    "\n",
    "2. overfitted\n",
    "\n",
    "3. underfitted\n",
    "\n",
    "\n",
    "__Task:__\n",
    "You just need to put the correct option number on the variable `correct_option3`.\n",
    "If your answer is overfitted, assign `correct_option3 = 2` and so on."
   ]
  },
  {
   "cell_type": "code",
   "execution_count": null,
   "metadata": {
    "id": "9xDBfdZSAxQ-",
    "nbgrader": {
     "grade": false,
     "grade_id": "cell-9168700a9e95e753",
     "locked": false,
     "schema_version": 3,
     "solution": true,
     "task": false
    },
    "tags": [
     "Ex-7-Task-2"
    ]
   },
   "outputs": [],
   "source": [
    "### Ex-7-Task-2\n",
    "correct_option3 = None\n",
    "### BEGIN SOLUTION\n",
    "correct_option3 = 3\n",
    "### END SOLUTION"
   ]
  },
  {
   "cell_type": "code",
   "execution_count": null,
   "metadata": {
    "id": "EqvwXBIpwsKN",
    "nbgrader": {
     "grade": true,
     "grade_id": "cell-680e212f211f9eae",
     "locked": true,
     "points": 0,
     "schema_version": 3,
     "solution": false,
     "task": false
    },
    "tags": [
     "Ex-7-Task-2"
    ]
   },
   "outputs": [],
   "source": [
    "assert correct_option3 is not None\n",
    "### BEGIN HIDDEN TESTS\n",
    "assert(correct_option3 == 3)\n",
    "### END HIDDEN TESTS"
   ]
  },
  {
   "cell_type": "markdown",
   "metadata": {
    "id": "bfLb4QKawsKX",
    "nbgrader": {
     "grade": false,
     "grade_id": "cell-ae5d7743776fa417",
     "locked": true,
     "schema_version": 3,
     "solution": false,
     "task": false
    }
   },
   "source": [
    "### Exercise 8: Improving performance\n",
    "<b><div style=\"text-align: right\">[POINTS: 1]</div></b>\n",
    "\n",
    "---\n",
    "Based on your answer, if the model is overfitted, under fitted, or optimally fitted, you need to perform a few experiments and improve its performance. The test f1-score of the model should be above 89.00%\n",
    "\n",
    "Hint: If the model is overfitted, you can perform shrinkage, reduce the depth of the tree, apply regularization, etc. Similarly, if the model is under fitted, you can increase the number of iterations and the tree depth.\n",
    "\n",
    "**Task:**  \n",
    "- Instantiate a XGBClassifier() to variable `model` with the parameters you think are suitable for improving performance.\n",
    "- Note: The test f1 score of your model should be equal or above 0.8900 to get the marks.\n"
   ]
  },
  {
   "cell_type": "code",
   "execution_count": null,
   "metadata": {
    "id": "-hgayJeYwsKY",
    "nbgrader": {
     "grade": false,
     "grade_id": "cell-c6c3726bbeeded05",
     "locked": false,
     "schema_version": 3,
     "solution": true,
     "task": false
    },
    "outputId": "9649ad20-cd90-4c59-b1e2-74ddd5d0985f",
    "tags": [
     "Ex-8-Task-1"
    ]
   },
   "outputs": [
    {
     "name": "stdout",
     "output_type": "stream",
     "text": [
      "Train f1_score: 0.9961038312324341\n",
      "Test f1_score: 0.8942614407204746\n"
     ]
    }
   ],
   "source": [
    "### Ex-8-Task-1\n",
    "model = None\n",
    "### BEGIN SOLUTION\n",
    "# xgb = XGBClassifier(n_estimators = 400, n_jobs = -1, max_depth = 15, gamma = 0.1, min_child_weight = 5, random_state = RANDOM_STATE)\n",
    "model = XGBClassifier(n_estimators = 400, n_jobs = -1, max_depth = 15, random_state = RANDOM_STATE)\n",
    "### END SOLUTION\n",
    "model.fit(X_train, y_train)\n",
    "pickle.dump(model, open(\"model.pickle.dat\", \"wb\"))\n",
    "\n",
    "print(\"Train f1_score:\", f1_score(y_train, model.predict(X_train), average = 'weighted'))\n",
    "print(\"Test f1_score:\", f1_score(y_test, model.predict(X_test), average = 'weighted'))"
   ]
  },
  {
   "cell_type": "code",
   "execution_count": null,
   "metadata": {
    "id": "KK6gIaq9wsKc",
    "nbgrader": {
     "grade": true,
     "grade_id": "cell-18ef62f4ca805457",
     "locked": true,
     "points": 1,
     "schema_version": 3,
     "solution": false,
     "task": false
    },
    "tags": [
     "Ex-8-Task-1"
    ]
   },
   "outputs": [],
   "source": [
    "### INTENTIONALLY LEFT BLANK\n",
    "### BEGIN HIDDEN TESTS\n",
    "model = pickle.load(open(\"model.pickle.dat\", \"rb\"))\n",
    "f1_score_hidden = f1_score(y_test, model.predict(X_test), average = 'weighted')\n",
    "assert f1_score_hidden >= 0.89, \"F1-score on test set is below 0.8900\"\n",
    "### END HIDDEN TESTS"
   ]
  },
  {
   "cell_type": "markdown",
   "metadata": {
    "id": "2EPPp2jWwsKg",
    "nbgrader": {
     "grade": false,
     "grade_id": "cell-6ab792baf95be725",
     "locked": true,
     "schema_version": 3,
     "solution": false,
     "task": false
    }
   },
   "source": [
    "### Model Tuning\n",
    "\n",
    "A function `tuning_curve()` is defined, which tunes the xgboost . Here `param_name` is the name of the parameter, and `param_range` is the corresponding range of the parameter's value. This function plot the log loss for different value of these parameters. The plot has a vertical line with a central dot corresponding to each value of the parameter.  The vertical length represents the standard deviation of log loss for three cross-fold validation. Similarly, the central dot represents the mean log loss for three cross-fold validation."
   ]
  },
  {
   "cell_type": "code",
   "execution_count": null,
   "metadata": {
    "id": "eg_vu2BBwsKg",
    "nbgrader": {
     "grade": false,
     "grade_id": "cell-fcd0aa29a62fdc7c",
     "locked": true,
     "schema_version": 3,
     "solution": false,
     "task": false
    }
   },
   "outputs": [],
   "source": [
    "from sklearn.model_selection import cross_validate\n",
    "from sklearn.model_selection import StratifiedKFold\n",
    "\n",
    "\n",
    "def tuning_curve(param_name, param_range):\n",
    "    \"\"\"\n",
    "    A function to perform hyperparameter tuning.\n",
    "    \n",
    "    A 3 fold stratified cross validation is performed for each value of parameter.\n",
    "    \n",
    "    \n",
    "    Parameters:\n",
    "    ----------\n",
    "    param_name: str\n",
    "                Name of the parameter on which to perform hyperparamter tuning.\n",
    "    param_range: list\n",
    "                 Range of parameter to perform grid search\n",
    "                 \n",
    "    Returns:\n",
    "    -------\n",
    "    None\n",
    "    \"\"\"\n",
    "    mean = []\n",
    "    std = []\n",
    "    for n in param_range:\n",
    "        arg = dict()\n",
    "        arg[param_name] = n\n",
    "        model = XGBClassifier(random_state = RANDOM_STATE,n_jobs = -1,  **arg)\n",
    "        skfold = StratifiedKFold(n_splits=3, shuffle=True, random_state=RANDOM_STATE)\n",
    "        scores = cross_validate(model, X_train, y_train, scoring = ['neg_log_loss'], cv = skfold)\n",
    "        mean_temp = np.abs(scores['test_neg_log_loss']).mean()\n",
    "        mean.append(mean_temp)\n",
    "        std_temp = np.abs(scores['test_neg_log_loss']).std()/2.0\n",
    "        std.append(std_temp)\n",
    "    plt.errorbar(param_range, mean, std, fmt = 'o') \n",
    "    plt.xlabel(\"{}\".format(param_name))\n",
    "    plt.ylabel(\"{}\".format(\"Log loss\"))\n",
    "    plt.title(\"Cross Validation Score\")\n",
    "    plt.show()\n",
    "\n"
   ]
  },
  {
   "cell_type": "markdown",
   "metadata": {
    "id": "M46PQhAKwsKj",
    "nbgrader": {
     "grade": false,
     "grade_id": "cell-7abdb069e9449f28",
     "locked": true,
     "schema_version": 3,
     "solution": false,
     "task": false
    }
   },
   "source": [
    "### Exercise 9: Tuning L1-Regularization term.\n",
    "<b><div style=\"text-align: right\">[UNGRADED]</div></b>\n",
    "\n",
    "---\n",
    "A function `tuning_curve()` is defined above. Use this function to tune L1 regularization term in the range $[0, 0.4, 1, 5, 10]$\n",
    "\n",
    "**Task:**  \n",
    "- Use function `tuning_curve()` to tune the parameter `reg_alpha` in the range $[0, 0.4, 1, 5, 10]$ and answer the following quiz.\n"
   ]
  },
  {
   "cell_type": "code",
   "execution_count": null,
   "metadata": {
    "id": "o_ES-JPNwsKl",
    "nbgrader": {
     "grade": false,
     "grade_id": "cell-e76c5f3f70d295d3",
     "locked": false,
     "schema_version": 3,
     "solution": true,
     "task": false
    },
    "outputId": "a1297c03-1a53-4d31-c967-191ae5e3a3be",
    "tags": [
     "Ex-9-Task-1"
    ]
   },
   "outputs": [
    {
     "data": {
      "image/png": "[encoded data removed]",
      "text/plain": [
       "<Figure size 432x288 with 1 Axes>"
      ]
     },
     "metadata": {
      "needs_background": "light"
     },
     "output_type": "display_data"
    }
   ],
   "source": [
    "### Ex-9-Task-1\n",
    "\n",
    "None # Call function tuning_curve() to tune reg_alpha in the given range\n",
    "\n",
    "### BEGIN SOLUTION\n",
    "tuning_curve(param_name = 'reg_alpha', param_range = [0, 0.4, 1, 5, 10])  \n",
    "### END SOLUTION"
   ]
  },
  {
   "cell_type": "markdown",
   "metadata": {
    "id": "eciMTlsjwsKo",
    "nbgrader": {
     "grade": false,
     "grade_id": "cell-e947185a223b2ed4",
     "locked": true,
     "schema_version": 3,
     "solution": false,
     "task": false
    }
   },
   "source": [
    "#### Q4: From the above curve, which of the following value of reg_alpha yields the best performance?\n",
    "<b><div style=\"text-align: right\">[UNGRADED]</div></b>\n",
    "\n",
    "---\n",
    "\n",
    "Select the best option.\n",
    "\n",
    "1. 0\n",
    "\n",
    "2. 0.4\n",
    "\n",
    "3. 1\n",
    "\n",
    "4. 5\n",
    "\n",
    "5. 10\n",
    "\n",
    "\n",
    "__Task:__\n",
    "You just need to put the correct option number on the variable `correct_option4`.\n",
    "If your answer is 1, assign `correct_option4 = 3` and so on.\n",
    "\n"
   ]
  },
  {
   "cell_type": "code",
   "execution_count": null,
   "metadata": {
    "id": "05rB4PBzwsKo",
    "nbgrader": {
     "grade": false,
     "grade_id": "cell-e6f79de5d9099766",
     "locked": false,
     "schema_version": 3,
     "solution": true,
     "task": false
    },
    "tags": [
     "Ex-9-Task-2"
    ]
   },
   "outputs": [],
   "source": [
    "### Ex-9-Task-2\n",
    "correct_option4 = None\n",
    "### BEGIN SOLUTION\n",
    "correct_option4 = 3\n",
    "### END SOLUTION"
   ]
  },
  {
   "cell_type": "code",
   "execution_count": null,
   "metadata": {
    "id": "YvRtF_WRwsKr",
    "nbgrader": {
     "grade": true,
     "grade_id": "cell-2f34af50e3ed0e9d",
     "locked": true,
     "points": 0,
     "schema_version": 3,
     "solution": false,
     "task": false
    },
    "tags": [
     "Ex-9-Task-2"
    ]
   },
   "outputs": [],
   "source": [
    "assert correct_option4 is not None\n",
    "### BEGIN HIDDEN TESTS\n",
    "assert(correct_option4 == 3)\n",
    "### END HIDDEN TESTS"
   ]
  },
  {
   "cell_type": "markdown",
   "metadata": {
    "id": "Yie7qnu3wsKv",
    "nbgrader": {
     "grade": false,
     "grade_id": "cell-37b52dd2aa626f09",
     "locked": true,
     "schema_version": 3,
     "solution": false,
     "task": false
    }
   },
   "source": [
    "__Congratulation!!!!!!!!!!!!!__\n",
    "\n",
    "__You have completed level 1__"
   ]
  },
  {
   "cell_type": "markdown",
   "metadata": {
    "id": "IX6VJobpwsKw",
    "nbgrader": {
     "grade": false,
     "grade_id": "cell-b667e8e8b3636142",
     "locked": true,
     "schema_version": 3,
     "solution": false,
     "task": false
    }
   },
   "source": [
    "## Level 2+3\n",
    "\n",
    "## Learning Objective (Level2+Level 3)\n",
    "<b><div style=\"text-align: right\">[POINTS: 6]</div></b>\n",
    "\n",
    "- Implement Gradient Boosting Regressor from scratch.\n",
    "\n",
    "- Compare the performance of gradient boosting regressor implement from scratch with Sklearn's gradient boosting regressor.\n",
    "\n"
   ]
  },
  {
   "cell_type": "markdown",
   "metadata": {
    "id": "V5t25PcIwsKx",
    "nbgrader": {
     "grade": false,
     "grade_id": "cell-db838318b41e3f7d",
     "locked": true,
     "schema_version": 3,
     "solution": false,
     "task": false
    }
   },
   "source": [
    "### Dataset Description\n",
    "\n",
    "We will use a synthetic dataset for this part. A synthetic dataset is generated using Sklearn's `make_regression()` method.\n",
    "\n",
    "---\n",
    "Number of Instances: 100\n",
    "\n",
    "Number of Attributes:4\n",
    "\n",
    "---\n",
    "The features are labeled `x1`, `x2`,`x3`,`x4`, and the output value is labeled `target`.\n"
   ]
  },
  {
   "cell_type": "code",
   "execution_count": null,
   "metadata": {
    "id": "MDvsa8egwsKx",
    "nbgrader": {
     "grade": false,
     "grade_id": "cell-d43477defd50fd3b",
     "locked": true,
     "schema_version": 3,
     "solution": false,
     "task": false
    },
    "outputId": "462ae2bc-2aad-435b-ee88-006b901148d4",
    "scrolled": true
   },
   "outputs": [
    {
     "data": {
      "text/html": [
       "<div>\n",
       "<style scoped>\n",
       "    .dataframe tbody tr th:only-of-type {\n",
       "        vertical-align: middle;\n",
       "    }\n",
       "\n",
       "    .dataframe tbody tr th {\n",
       "        vertical-align: top;\n",
       "    }\n",
       "\n",
       "    .dataframe thead th {\n",
       "        text-align: right;\n",
       "    }\n",
       "</style>\n",
       "<table border=\"1\" class=\"dataframe\">\n",
       "  <thead>\n",
       "    <tr style=\"text-align: right;\">\n",
       "      <th></th>\n",
       "      <th>x1</th>\n",
       "      <th>x2</th>\n",
       "      <th>x3</th>\n",
       "      <th>x4</th>\n",
       "      <th>target</th>\n",
       "    </tr>\n",
       "  </thead>\n",
       "  <tbody>\n",
       "    <tr>\n",
       "      <th>0</th>\n",
       "      <td>-0.192855</td>\n",
       "      <td>-1.778013</td>\n",
       "      <td>0.735027</td>\n",
       "      <td>0.331974</td>\n",
       "      <td>55.859210</td>\n",
       "    </tr>\n",
       "    <tr>\n",
       "      <th>1</th>\n",
       "      <td>0.396565</td>\n",
       "      <td>1.171393</td>\n",
       "      <td>0.097020</td>\n",
       "      <td>0.973093</td>\n",
       "      <td>119.860365</td>\n",
       "    </tr>\n",
       "    <tr>\n",
       "      <th>2</th>\n",
       "      <td>1.503319</td>\n",
       "      <td>-0.212733</td>\n",
       "      <td>1.438240</td>\n",
       "      <td>0.108648</td>\n",
       "      <td>166.927654</td>\n",
       "    </tr>\n",
       "    <tr>\n",
       "      <th>3</th>\n",
       "      <td>-0.000890</td>\n",
       "      <td>-1.754724</td>\n",
       "      <td>0.002066</td>\n",
       "      <td>-0.788923</td>\n",
       "      <td>-71.091021</td>\n",
       "    </tr>\n",
       "    <tr>\n",
       "      <th>4</th>\n",
       "      <td>0.032820</td>\n",
       "      <td>0.407516</td>\n",
       "      <td>-0.465937</td>\n",
       "      <td>1.690526</td>\n",
       "      <td>138.727129</td>\n",
       "    </tr>\n",
       "  </tbody>\n",
       "</table>\n",
       "</div>"
      ],
      "text/plain": [
       "         x1        x2        x3        x4      target\n",
       "0 -0.192855 -1.778013  0.735027  0.331974   55.859210\n",
       "1  0.396565  1.171393  0.097020  0.973093  119.860365\n",
       "2  1.503319 -0.212733  1.438240  0.108648  166.927654\n",
       "3 -0.000890 -1.754724  0.002066 -0.788923  -71.091021\n",
       "4  0.032820  0.407516 -0.465937  1.690526  138.727129"
      ]
     },
     "execution_count": 38,
     "metadata": {},
     "output_type": "execute_result"
    }
   ],
   "source": [
    "from sklearn.datasets import make_regression\n",
    "\n",
    "\n",
    "RANDOM_STATE = 7\n",
    "X, y = make_regression(n_samples=100, n_features=4, n_informative=3, bias = 2,noise=0.05, random_state = RANDOM_STATE)\n",
    "df = pd.DataFrame(X, columns = ['x1', 'x2', 'x3', 'x4'])\n",
    "df['target']= y\n",
    "df.head()"
   ]
  },
  {
   "cell_type": "markdown",
   "metadata": {
    "id": "L9fe-DOjwsK1",
    "nbgrader": {
     "grade": false,
     "grade_id": "cell-bd14aeadf62f03f4",
     "locked": true,
     "schema_version": 3,
     "solution": false,
     "task": false
    }
   },
   "source": [
    "### Scatter plot"
   ]
  },
  {
   "cell_type": "markdown",
   "metadata": {
    "id": "gCJllXViwsK1",
    "nbgrader": {
     "grade": false,
     "grade_id": "cell-0589adfec84c9f9a",
     "locked": true,
     "schema_version": 3,
     "solution": false,
     "task": false
    }
   },
   "source": [
    "If you would like, you could visualize the scatter plot of individual features with respect to the target variable. Moreover, if you like to understand better the distribution of the data, you can experiment yourself."
   ]
  },
  {
   "cell_type": "code",
   "execution_count": null,
   "metadata": {
    "id": "EPrD4CUZwsK3",
    "nbgrader": {
     "grade": false,
     "grade_id": "cell-397b9432fd9d4d86",
     "locked": true,
     "schema_version": 3,
     "solution": false,
     "task": false
    },
    "outputId": "d343f8c4-0366-43fd-e376-8e3a73cca459",
    "scrolled": false
   },
   "outputs": [
    {
     "data": {
      "image/png": "[encoded data removed]",
      "text/plain": [
       "<Figure size 432x288 with 1 Axes>"
      ]
     },
     "metadata": {
      "needs_background": "light"
     },
     "output_type": "display_data"
    }
   ],
   "source": [
    "# Perform experiment to understand data distribution if needed.\n",
    "plt.scatter(X[:,0], y)\n",
    "plt.ylabel(\"Output/independent variable\")\n",
    "plt.xlabel(\"Input/dependet variable\")\n",
    "plt.show()"
   ]
  },
  {
   "cell_type": "markdown",
   "metadata": {
    "id": "HQxBrCMAwsK7",
    "nbgrader": {
     "grade": false,
     "grade_id": "cell-f3f5e12329749570",
     "locked": true,
     "schema_version": 3,
     "solution": false,
     "task": false
    }
   },
   "source": [
    "### Train Test Split\n",
    "As usual, we will keep 80% of the data for training and the rest for testing."
   ]
  },
  {
   "cell_type": "code",
   "execution_count": null,
   "metadata": {
    "id": "sHr2YzgbwsK8",
    "nbgrader": {
     "grade": false,
     "grade_id": "cell-8dda2947d86adb91",
     "locked": true,
     "schema_version": 3,
     "solution": false,
     "task": false
    }
   },
   "outputs": [],
   "source": [
    "from sklearn.model_selection import train_test_split\n",
    "\n",
    "\n",
    "X_train, X_test, y_train, y_test = train_test_split(X, y, test_size = 0.2, random_state = RANDOM_STATE)"
   ]
  },
  {
   "cell_type": "markdown",
   "metadata": {
    "id": "OdD_9-8twsK_",
    "nbgrader": {
     "grade": false,
     "grade_id": "cell-2e777240a07996e8",
     "locked": true,
     "schema_version": 3,
     "solution": false,
     "task": false
    }
   },
   "source": [
    "## Gradient Boosting Regressor from scratch\n",
    "In this section, we will implement a gradient boosting regressor from scratch. Each base learner will be a decision tree. For this, we will use Sklearn's `DecisionTreeRegressor()` object.\n",
    "\n",
    "Here is a pseudo-code for gradient boosting regressor.\n",
    "```\n",
    "Algorithm:\n",
    "```\n",
    "> 1. initialize $F_0= \\frac{1}{N}\\sum_{i=1}^N y_i$\n",
    "2. for $t=1$ to $M$ do\n",
    "3. > calculate negative gradients $-g(\\mathbf{x_i})$; where $-g(\\mathbf{x_i})= -\\frac{\\partial L(y_i, F(\\mathbf{x_i}))}{\\partial F(\\mathbf{x_i})}\\bigg{|}_{F = F_{t-1}}$\n",
    "4. > fit a base-learner model $h$ to negative gradients $-g(\\mathbf{x_i})$\n",
    "5. > update the function: $F_t=F_{t-1} + \\alpha h(\\mathbf{x})$; where $\\alpha$ is a shrinkage\n",
    "6. end for"
   ]
  },
  {
   "cell_type": "markdown",
   "metadata": {
    "id": "078dpGJLwsLA",
    "nbgrader": {
     "grade": false,
     "grade_id": "cell-07955f911d589c73",
     "locked": true,
     "schema_version": 3,
     "solution": false,
     "task": false
    }
   },
   "source": [
    "Below is a skeleton class for the gradient boosting regressor. We have already defined a constructor for initializing different attributes like `learning_rate`, `max_depth` of each tree, and `n_estimators` for the number of boosting iterations. The attribute `estimators` is a list of each trained base learner.\n",
    "\n",
    "### Exercise 10: Gradient Boosting Regressor from scratch\n",
    "<b><div style=\"text-align: right\">[POINTS: 1+3+1]</div></b>\n",
    "\n",
    "---\n",
    "This exercise is divided into three different tasks. Through these three tasks, you will create a gradient boosting regressor.\n",
    "\n",
    "**Task 1: Computation of negative gradient** \n",
    "<b><div style=\"text-align: right\">[POINTS: 1]</div></b>\n",
    "\n",
    "We have defined a static method `negative_gradient` which should return the negative gradient when actual label $y$ and predicted label $\\hat{y}$ are given. You need to complete this function.\n",
    "\n",
    "-  Your task is to assign the negative gradient the the variable `grad`. Suppose we are using the following loss function $$L(y,\\hat{y})= \\frac{1}{2}(y-\\hat{y})^2$$ \n",
    "where, $y$ is the actual label and $\\hat{y}$ is the predicted label.\n",
    "\n",
    "\n",
    "**Task 2: Fit the model** \n",
    "\n",
    "<b><div style=\"text-align: right\">[POINTS: 3]</div></b>\n",
    "\n",
    "\n",
    "In this task, we are going to fit our model with the training dataset. We have defined a function `fit(X,y)` in the class `Gradient_Boosting_Regressor` where, X is the training features, and y is the training label. As already discussed in the reading material, the first prediction is the average of output label. Here we have defined two attributes, `average` and `base_prediction`. `base_prediction` is a vector of average value with a length equal to the number of instances in the training data. \n",
    "\n",
    "\n",
    "- Compute the negative_gradient using the above defined function and put it in the variable `pseduo_residual`.\n",
    "- Instantiate a decision tree regressor(from sklearn) on variable `tree` setting `max_depth` to the variable provided in the class constructor and setting `random_state` to RANDOM_STATE.\n",
    "- Fit the tree on input X and pseudo_residual as a target.\n",
    "- Update `base_prediction` with the prediction of the current tree. Note: The prediction of each tree should be downscaled by shrinkage. Please replace 0 with your own code.\n",
    "\n",
    "**Task 3: Prediction by model** \n",
    "\n",
    "<b><div style=\"text-align: right\">[POINTS: 1]</div></b>\n",
    "\n",
    "\n",
    "In this exercise, we are going to make a prediction based on the input data. We have defined a function `predict(X)` in the class `Gradient_Boosting_Regressor` where, X is a feature for which we want to make a prediction. Here we have initialized the variable `predictions` by the average value of the training label. We want to return the final prediction made by the model.\n",
    "\n",
    "\n",
    "- The average prediction is already assigned to the variable `predictions`. Your task is to add the predictions made by each estimator to the variable `predictions`. Please replace 0 with your code.\n",
    "\n",
    "\n",
    "The last method, `staged_predict()` is a generator that returns the prediction for each boosting iterations."
   ]
  },
  {
   "cell_type": "code",
   "execution_count": null,
   "metadata": {
    "id": "NOP9uMawwsLA",
    "nbgrader": {
     "grade": false,
     "grade_id": "cell-a577ca77eb16fb05",
     "locked": false,
     "schema_version": 3,
     "solution": true,
     "task": false
    },
    "tags": [
     "Ex-10-Task-1"
    ]
   },
   "outputs": [],
   "source": [
    "### Ex-10-Task-1\n",
    "\n",
    "from sklearn.tree import DecisionTreeRegressor\n",
    "\n",
    "class Gradient_Boosting_Regressor:\n",
    "    \"\"\"\n",
    "    Gradient boosting for regression.\n",
    "    \n",
    "    This implementation uses a mean square error loss function.\n",
    "    \n",
    "    Parameters:\n",
    "    ----------\n",
    "    learning_rate: int\n",
    "                   Learning rate or shrinkage parameter (the default is 0.1)\n",
    "    max_depth: int\n",
    "               Maximum allowed depth for each tree (the default value is 4)\n",
    "    n_estimators: int\n",
    "                  The total number of boosting operations (the default value is 5)  \n",
    "                   \n",
    "    \"\"\"\n",
    "    def __init__(self, learning_rate = 0.1, max_depth = 3, n_estimators = 5):\n",
    "        self.learning_rate = learning_rate\n",
    "        self.max_depth = max_depth\n",
    "        self.n_estimators = n_estimators\n",
    "        self.estimators = []\n",
    "        \n",
    "        \n",
    "    @staticmethod\n",
    "    def negative_gradient(y, y_pred):\n",
    "        \"\"\"Compute and return the negative gradient. \"\"\"\n",
    "        grad = None\n",
    "        \n",
    "        grad = y-y_pred\n",
    "        \n",
    "        return grad\n",
    "    \n",
    "    \n",
    "    def fit(self, X, y):\n",
    "        \"\"\"Fit the model on data X and y\"\"\"\n",
    "        self.average = np.mean(y)\n",
    "        self.base_prediction = np.array([np.mean(y)]*len(y))\n",
    "        \n",
    "        for estimators in range(self.n_estimators):\n",
    "            pseudo_residuals = None\n",
    "            tree = None \n",
    "            None # tree.fit(...)\n",
    "            self.base_prediction += 0 # None ########### WHAT IS THE USE OF THIS LINE?\n",
    "            ### BEGIN SOLUTION\n",
    "            pseudo_residuals = self.negative_gradient(y, self.base_prediction)\n",
    "            tree = DecisionTreeRegressor(max_depth = self.max_depth, random_state = 7)\n",
    "            tree.fit(X, pseudo_residuals)\n",
    "            self.base_prediction += self.learning_rate*tree.predict(X)            \n",
    "            ### END SOLUTION\n",
    "            self.estimators.append(tree)\n",
    "            \n",
    "            \n",
    "    def predict(self, X):\n",
    "        \"\"\"Make prediction by the model on data X.\"\"\"\n",
    "        predictions = np.array([self.average]*X.shape[0])\n",
    "        for estimator in self.estimators:\n",
    "            predictions += 0 # None\n",
    "            \n",
    "            predictions += self.learning_rate*estimator.predict(X)\n",
    "            \n",
    "        return predictions\n",
    "    \n",
    "    \n",
    "    def staged_predict(self, X):\n",
    "        \"\"\"A generator which returns the prediction at each boosting iteration.\"\"\"\n",
    "        predictions = np.array([self.average]*X.shape[0])\n",
    "        \n",
    "        for estimator in self.estimators:\n",
    "            predictions += self.learning_rate*estimator.predict(X)\n",
    "            yield predictions\n",
    "\n",
    "        "
   ]
  },
  {
   "cell_type": "code",
   "execution_count": null,
   "metadata": {
    "id": "Y9jBuEOTwsLC",
    "nbgrader": {
     "grade": true,
     "grade_id": "cell-b9efbc219be797d3",
     "locked": true,
     "points": 5,
     "schema_version": 3,
     "solution": false,
     "task": false
    },
    "tags": [
     "Ex-10-Task-1"
    ]
   },
   "outputs": [],
   "source": [
    "model = Gradient_Boosting_Regressor()\n",
    "model.fit(X_train, y_train)\n",
    "assert not np.array_equal(model.predict(X_train), np.array([np.mean(y_train)]*len(y_train))), \"Make sure you have implemented the code for fit and predict methods.\"\n",
    "### BEGIN HIDDEN TESTS\n",
    "\n",
    "class Gradient_Boosting_Regressor:\n",
    "    \"\"\"\n",
    "    Gradient boosting for regression.\n",
    "    \n",
    "    This implementation uses mean square error loss function.\n",
    "    \n",
    "    Parameters:\n",
    "    ----------\n",
    "    learning_rate: int\n",
    "                   Learning rate or shrinkage parameter (the default is 0.1)\n",
    "    max_depth: int\n",
    "               Maximum allowed depth for each tree (the default value is 4)\n",
    "    n_estimators: int\n",
    "                  The total number of boosting operations (the default value is 5)  \n",
    "                   \n",
    "    \"\"\"\n",
    "    def __init__(self, learning_rate =0.1, max_depth = 3, n_estimators = 5):\n",
    "        self.learning_rate = learning_rate\n",
    "        self.max_depth = max_depth\n",
    "        self.n_estimators = n_estimators\n",
    "        self.estimators = []\n",
    "        \n",
    "        \n",
    "    @staticmethod\n",
    "    def negative_gradient(y, y_pred):\n",
    "        \"\"\"Compute and returns the negative gradient. \"\"\"\n",
    "        grad = y-y_pred\n",
    "        return grad\n",
    "    \n",
    "    \n",
    "    def fit(self, X, y):\n",
    "        \"\"\"Fit the model\"\"\"\n",
    "        self.average = np.mean(y)\n",
    "        self.base_prediction = np.array([np.mean(y)]*len(y))\n",
    "        \n",
    "        for estimators in range(self.n_estimators):\n",
    "            pseudo_residuals = self.negative_gradient(y, self.base_prediction)\n",
    "            \n",
    "            tree = DecisionTreeRegressor(max_depth = self.max_depth, random_state = 7)\n",
    "            tree.fit(X, pseudo_residuals)\n",
    "            self.base_prediction += self.learning_rate*tree.predict(X)\n",
    "            self.estimators.append(tree)\n",
    "            \n",
    "            \n",
    "    def predict(self, X):\n",
    "        \"\"\"Make prediction by the model for input data X.\"\"\"\n",
    "        predictions = np.array([self.average]*X.shape[0])\n",
    "        \n",
    "        for estimator in self.estimators:\n",
    "            predictions += self.learning_rate*estimator.predict(X)\n",
    "        return predictions\n",
    "    \n",
    "    \n",
    "    def staged_predict(self, X):\n",
    "        \"\"\"A generator which returns the prediction at each boosting iteration.\"\"\"\n",
    "        predictions = np.array([self.average]*X.shape[0])\n",
    "        \n",
    "        for estimator in self.estimators:\n",
    "            predictions += self.learning_rate*estimator.predict(X)\n",
    "            yield predictions\n",
    "\n",
    "teacher = Gradient_Boosting_Regressor()\n",
    "student = Gradient_Boosting_Regressor()\n",
    "teacher.fit(X_train[:20, :], y_train[:20])\n",
    "teacher_prediction_hidden = teacher.predict(X_train[:20, :])\n",
    "\n",
    "student.fit(X_train[:20, :], y_train[:20])\n",
    "student_prediction_hidden = student.predict(X_train[:20, :])\n",
    "\n",
    "# np.testing.assert_almost_equal(teacher_prediction_hidden, student_prediction_hidden, decimal = 3,  err_msg = \"Please check either fit or predict method\" )\n",
    "### END HIDDEN TESTS\n"
   ]
  },
  {
   "cell_type": "markdown",
   "metadata": {
    "id": "lZQXk1LKwsLK",
    "nbgrader": {
     "grade": false,
     "grade_id": "cell-923533ed49764d9a",
     "locked": true,
     "schema_version": 3,
     "solution": false,
     "task": false
    }
   },
   "source": [
    "## Evaluation and Comparision\n",
    "In this and coming sections, we will first evaluate the gradient boosting regressor that we just built from scratch and then compare it with the Sklearn's gradient boosting regressor."
   ]
  },
  {
   "cell_type": "markdown",
   "metadata": {
    "id": "6lBICO5cwsLL",
    "nbgrader": {
     "grade": false,
     "grade_id": "cell-b6c7066b96b6b819",
     "locked": true,
     "schema_version": 3,
     "solution": false,
     "task": false
    }
   },
   "source": [
    "Let's see how our model has performed."
   ]
  },
  {
   "cell_type": "code",
   "execution_count": null,
   "metadata": {
    "id": "eEDtuZTewsLM",
    "nbgrader": {
     "grade": false,
     "grade_id": "cell-c2a36747339e6a0f",
     "locked": true,
     "schema_version": 3,
     "solution": false,
     "task": false
    },
    "outputId": "50462eca-47aa-429d-9076-1bfa8538396a",
    "scrolled": true
   },
   "outputs": [
    {
     "name": "stdout",
     "output_type": "stream",
     "text": [
      "r2_score: 0.5787669653951846\n"
     ]
    }
   ],
   "source": [
    "from sklearn.metrics import r2_score\n",
    "\n",
    "custom_gbm = Gradient_Boosting_Regressor(learning_rate = 0.2, max_depth = 3, n_estimators = 4)\n",
    "custom_gbm.fit(X_train, y_train)\n",
    "\n",
    "\n",
    "print(\"r2_score:\", r2_score(y_test, custom_gbm.predict(X_test)))"
   ]
  },
  {
   "cell_type": "markdown",
   "metadata": {
    "id": "beLuCubewsLR",
    "nbgrader": {
     "grade": false,
     "grade_id": "cell-4bbd2fbc84269c97",
     "locked": true,
     "schema_version": 3,
     "solution": false,
     "task": false
    }
   },
   "source": [
    "### Visualization\n",
    "Let's see if the prediction gets improved with the added estimators. Here we will plot the actual and predicted target value."
   ]
  },
  {
   "cell_type": "code",
   "execution_count": null,
   "metadata": {
    "id": "unyAB9CRwsLS",
    "nbgrader": {
     "grade": false,
     "grade_id": "cell-0859ece951bdb673",
     "locked": true,
     "schema_version": 3,
     "solution": false,
     "task": false
    },
    "outputId": "cfbb7198-e8f8-41bb-cacf-e9bd58ba14be",
    "scrolled": false
   },
   "outputs": [
    {
     "data": {
      "image/png": "[encoded data removed]",
      "text/plain": [
       "<Figure size 1440x324 with 4 Axes>"
      ]
     },
     "metadata": {
      "needs_background": "light"
     },
     "output_type": "display_data"
    }
   ],
   "source": [
    "fig, ax = plt.subplots(1,4, figsize = (20,4.5), sharex = True)\n",
    "fig.suptitle(\"Prediction made by our custom gradient boosting regressor\")\n",
    "for i, pred in enumerate(custom_gbm.staged_predict(X_test)):\n",
    "    ax[i].scatter(y_test, pred, marker = 'o')\n",
    "    ax[i].set_title(\"n_estimators={}; r2_score={:04.2f}\".format(i+1, r2_score(y_test, pred)))\n",
    "    ax[i].set_xlabel(\"Actual value\")\n",
    "    ax[i].set_ylabel(\"Predicted value\")\n",
    "plt.show()"
   ]
  },
  {
   "cell_type": "markdown",
   "metadata": {
    "id": "a28anUbpwsLV",
    "nbgrader": {
     "grade": false,
     "grade_id": "cell-95ef400d33ab74e6",
     "locked": true,
     "schema_version": 3,
     "solution": false,
     "task": false
    }
   },
   "source": [
    "#### Q5: With our custom gradient boosting regressor, the prediction has ______ with boosting iteration?\n",
    "<b><div style=\"text-align: right\">[UNGRADED]</div></b>\n",
    "\n",
    "---\n",
    "Select the best option.\n",
    "\n",
    "1. improved\n",
    "\n",
    "2. degraded\n",
    "\n",
    "3. remained same\n",
    "\n",
    "\n",
    "__Task:__\n",
    "You just need to put the correct option number on the variable `correct_option5`.\n",
    "If your answer is degraded, assign `correct_option5 = 1` and so on.\n"
   ]
  },
  {
   "cell_type": "code",
   "execution_count": null,
   "metadata": {
    "id": "oQv2PyUWwsLV",
    "nbgrader": {
     "grade": false,
     "grade_id": "cell-76698c8e472078b9",
     "locked": false,
     "schema_version": 3,
     "solution": true,
     "task": false
    },
    "scrolled": true,
    "tags": [
     "Ex-10-Task-2"
    ]
   },
   "outputs": [],
   "source": [
    "### Ex-10-Task-2\n",
    "\n",
    "correct_option5 = None\n",
    "### BEGIN SOLUTION\n",
    "correct_option5 = 1\n",
    "### END SOLUTION"
   ]
  },
  {
   "cell_type": "code",
   "execution_count": null,
   "metadata": {
    "id": "39wF8tIVwsLa",
    "nbgrader": {
     "grade": true,
     "grade_id": "cell-f90c0c9bb300b864",
     "locked": true,
     "points": 0,
     "schema_version": 3,
     "solution": false,
     "task": false
    },
    "tags": [
     "Ex-10-Task-2"
    ]
   },
   "outputs": [],
   "source": [
    "assert correct_option5 is not None\n",
    "### BEGIN HIDDEN TESTS\n",
    "assert(correct_option5 == 1)\n",
    "### END HIDDEN TESTS"
   ]
  },
  {
   "cell_type": "markdown",
   "metadata": {
    "id": "lOwaWEnOwsLf",
    "nbgrader": {
     "grade": false,
     "grade_id": "cell-b4c1f0242df52fde",
     "locked": true,
     "schema_version": 3,
     "solution": false,
     "task": false
    }
   },
   "source": [
    "### Gradient Boosting Regressor in sklearn\n",
    "Let's see how our model compared with the gradient boosting regressor in sklearn.\n",
    "\n",
    "### Exercise 11: Training Sklearn's GradientBoostingRegressor\n",
    "\n",
    "---\n",
    "<b><div style=\"text-align: right\">[POINTS: Ungraded]</div></b>\n",
    "\n",
    "In this exercise, we are going to train Sklearn's GradientBoostingRegressor.\n",
    "\n",
    "**Task:** \n",
    "- Create an object `gbm` of the `GradientBoostingRegressor` class setting criterion to `squared_error`, n_estimators to 4, max_depth to 3, learning_rate to 0.2 and random_state to RANDOM_STATE.\n",
    "- Fit the object on the training set `X_train`, and `y_train`.\n",
    "\n"
   ]
  },
  {
   "cell_type": "code",
   "execution_count": null,
   "metadata": {
    "id": "_se8m4-qwsLf",
    "nbgrader": {
     "grade": false,
     "grade_id": "cell-f5b4d71276ea35b7",
     "locked": false,
     "schema_version": 3,
     "solution": true,
     "task": false
    },
    "outputId": "8067bfe1-2773-4056-a4d1-06ef1c5df2df",
    "tags": [
     "Ex-11-Task-1"
    ]
   },
   "outputs": [
    {
     "name": "stdout",
     "output_type": "stream",
     "text": [
      "r2_score:  0.5787669653951846\n"
     ]
    }
   ],
   "source": [
    "### Ex-11-Task-1\n",
    "from sklearn.ensemble import GradientBoostingRegressor\n",
    "\n",
    "gbm = None\n",
    "# Fit the model \n",
    "### BEGIN SOLUTION\n",
    "gbm = GradientBoostingRegressor(criterion = 'squared_error', \n",
    "                                n_estimators = 4, \n",
    "                                max_depth = 3, \n",
    "                                learning_rate = 0.2,\n",
    "                                random_state = RANDOM_STATE)\n",
    "gbm.fit(X_train, y_train)\n",
    "\n",
    "### END SOLUTION\n",
    "print(\"r2_score: \", r2_score(y_test, gbm.predict(X_test)))"
   ]
  },
  {
   "cell_type": "code",
   "execution_count": null,
   "metadata": {
    "id": "5P9ZkU5TwsLl",
    "nbgrader": {
     "grade": true,
     "grade_id": "cell-6e7715fbea42734b",
     "locked": true,
     "points": 0,
     "schema_version": 3,
     "solution": false,
     "task": false
    },
    "tags": [
     "Ex-11-Task-1"
    ]
   },
   "outputs": [],
   "source": [
    "assert gbm is not None\n",
    "### BEGIN HIDDEN TESTS\n",
    "from sklearn.exceptions import NotFittedError\n",
    "\n",
    "\n",
    "assert gbm.criterion == 'squared_error', \"Please set the criterion to squared_error\"\n",
    "assert gbm.n_estimators == 4, \"Please set the number of estimators to 4\"\n",
    "assert gbm.learning_rate == 0.2, \"Please set the learning rate to 0.2\"\n",
    "assert gbm.random_state == RANDOM_STATE, \"Please set the random state to RANDOM_STATE\"\n",
    "\n",
    "try:\n",
    "    gbm.predict(X_test)\n",
    "except NotFittedError as e:\n",
    "    raise \"Model is not fitted\"\n",
    "### END HIDDEN TESTS"
   ]
  },
  {
   "cell_type": "markdown",
   "metadata": {
    "id": "FNI07SztwsLq",
    "nbgrader": {
     "grade": false,
     "grade_id": "cell-2b0adfbae73edfa0",
     "locked": true,
     "schema_version": 3,
     "solution": false,
     "task": false
    }
   },
   "source": [
    "### Visualization\n",
    "Let's visualize how the prediction made by Sklearn's gradient boosting regressor looks."
   ]
  },
  {
   "cell_type": "code",
   "execution_count": null,
   "metadata": {
    "id": "ZN1qS2i1wsLq",
    "nbgrader": {
     "grade": false,
     "grade_id": "cell-ce8cf5516f17bcbf",
     "locked": true,
     "schema_version": 3,
     "solution": false,
     "task": false
    },
    "outputId": "8d46b87d-069a-42a6-c6a1-7034f7421f92",
    "scrolled": true
   },
   "outputs": [
    {
     "data": {
      "image/png": "[encoded data removed]",
      "text/plain": [
       "<Figure size 1440x360 with 4 Axes>"
      ]
     },
     "metadata": {
      "needs_background": "light"
     },
     "output_type": "display_data"
    }
   ],
   "source": [
    "fig, ax = plt.subplots(1,4, figsize = (20,5), sharex = True, sharey=True)\n",
    "fig.suptitle(\"Prediction made by sklearn's gradient boosting regressor\")\n",
    "for i, pred in enumerate(gbm.staged_predict(X_test)):\n",
    "    ax[i].scatter(y_test, pred, marker = 'o')\n",
    "    ax[i].set_title(\"n_estimators={}; r2_score={:04.2f}\".format(i+1, r2_score(y_test, pred)))\n",
    "    ax[i].set_xlabel(\"Actual value\")\n",
    "    ax[i].set_ylabel(\"Predicted value\")\n",
    "plt.show()"
   ]
  },
  {
   "cell_type": "markdown",
   "metadata": {
    "id": "aQNwznniwsLt",
    "nbgrader": {
     "grade": false,
     "grade_id": "cell-39c8f97d55d679e1",
     "locked": true,
     "schema_version": 3,
     "solution": false,
     "task": false
    }
   },
   "source": [
    "#### Q6: Based on the above two plots, the performance of Sklearn's gradient boosting regressor is ______ our custom gradient boosting regressor?\n",
    "<b><div style=\"text-align: right\">[UNGRADED]</div></b>\n",
    "\n",
    "---\n",
    "Select the best option.\n",
    "\n",
    "1. better than\n",
    "\n",
    "2. worse than\n",
    "\n",
    "3. same as\n",
    "\n",
    "\n",
    "__Task:__\n",
    "You just need to put the correct option number on the variable `correct_option6`.\n",
    "If your answer is same as, assign `correct_option6 = 3` and so on.\n"
   ]
  },
  {
   "cell_type": "code",
   "execution_count": null,
   "metadata": {
    "id": "h6-7FqRhwsLu",
    "nbgrader": {
     "grade": false,
     "grade_id": "cell-ebdf39b6063cca4b",
     "locked": false,
     "schema_version": 3,
     "solution": true,
     "task": false
    },
    "tags": [
     "Ex-11-Task-2"
    ]
   },
   "outputs": [],
   "source": [
    "### Ex-11-Task-2\n",
    "\n",
    "correct_option6 = None\n",
    "### BEGIN SOLUTION\n",
    "correct_option6 = 3\n",
    "### END SOLUTION"
   ]
  },
  {
   "cell_type": "code",
   "execution_count": null,
   "metadata": {
    "id": "JGF7fuyawsL4",
    "nbgrader": {
     "grade": true,
     "grade_id": "cell-2c6a58ebdfbd093d",
     "locked": true,
     "points": 0,
     "schema_version": 3,
     "solution": false,
     "task": false
    },
    "tags": [
     "Ex-11-Task-2"
    ]
   },
   "outputs": [],
   "source": [
    "assert correct_option6 is not None\n",
    "### BEGIN HIDDEN TESTS\n",
    "assert(correct_option6 == 3)\n",
    "### END HIDDEN TESTS"
   ]
  },
  {
   "cell_type": "markdown",
   "metadata": {
    "id": "bv3aMhnXwsL7",
    "nbgrader": {
     "grade": false,
     "grade_id": "cell-0bbfda43b17a9cd1",
     "locked": true,
     "schema_version": 3,
     "solution": false,
     "task": false
    }
   },
   "source": [
    "### Loss vs. boosting iterations\n",
    "We will plot the value of mse loss at different iterations to visualize how the model's performance has improved. The function `learning_curve()` plots the mse of training and test data at each boosting iteration."
   ]
  },
  {
   "cell_type": "code",
   "execution_count": null,
   "metadata": {
    "id": "IMxRSx_CwsL8",
    "nbgrader": {
     "grade": false,
     "grade_id": "cell-815d662048750719",
     "locked": true,
     "schema_version": 3,
     "solution": false,
     "task": false
    }
   },
   "outputs": [],
   "source": [
    "from sklearn.metrics import mean_squared_error as mse\n",
    "\n",
    "\n",
    "def learning_curve(clf):\n",
    "    train_mse = []\n",
    "    test_mse = []\n",
    "    for pred in clf.staged_predict(X_train):\n",
    "        train_mse.append(mse(y_train, pred))\n",
    "    for pred in clf.staged_predict(X_test):\n",
    "        test_mse.append(mse(y_test, pred))\n",
    "    plt.plot(np.arange(clf.n_estimators)+1, train_mse, 'r', label= \"Training\")\n",
    "    plt.plot(np.arange(clf.n_estimators)+1, test_mse, 'b', label = \"Testing\")\n",
    "    plt.xlabel(\"Iterations\")\n",
    "    plt.ylabel(\"MSE loss\")\n",
    "    plt.legend()\n",
    "    plt.show()"
   ]
  },
  {
   "cell_type": "code",
   "execution_count": null,
   "metadata": {
    "id": "bKa9EcY0wsL-",
    "nbgrader": {
     "grade": false,
     "grade_id": "cell-b80c279d4f96b3cd",
     "locked": true,
     "schema_version": 3,
     "solution": false,
     "task": false
    },
    "outputId": "979fcec7-fa8b-450f-ab98-007b026a561a"
   },
   "outputs": [
    {
     "data": {
      "image/png": "[encoded data removed]",
      "text/plain": [
       "<Figure size 432x288 with 1 Axes>"
      ]
     },
     "metadata": {
      "needs_background": "light"
     },
     "output_type": "display_data"
    },
    {
     "name": "stdout",
     "output_type": "stream",
     "text": [
      "MSE: 1028.0919898541258\n",
      "r2_score 0.8672168468465088\n"
     ]
    }
   ],
   "source": [
    "custom_clf = Gradient_Boosting_Regressor(n_estimators = 100, max_depth = 1, learning_rate = 0.1)\n",
    "custom_clf.fit(X_train, y_train)\n",
    "learning_curve(custom_clf)\n",
    "print(\"MSE:\" ,mse(y_test, custom_clf.predict(X_test)))\n",
    "print(\"r2_score\" ,r2_score(y_test, custom_clf.predict(X_test)))"
   ]
  },
  {
   "cell_type": "code",
   "execution_count": null,
   "metadata": {
    "id": "Yx8n8ElVwsMC",
    "nbgrader": {
     "grade": false,
     "grade_id": "cell-0859ee6d5bae40dd",
     "locked": true,
     "schema_version": 3,
     "solution": false,
     "task": false
    },
    "outputId": "6648cf38-77ad-4f77-c6a5-65642b724d41"
   },
   "outputs": [
    {
     "data": {
      "image/png": "[encoded data removed]",
      "text/plain": [
       "<Figure size 432x288 with 1 Axes>"
      ]
     },
     "metadata": {
      "needs_background": "light"
     },
     "output_type": "display_data"
    },
    {
     "name": "stdout",
     "output_type": "stream",
     "text": [
      "MSE: 1028.0919898541258\n",
      "r2_score 0.8672168468465088\n"
     ]
    }
   ],
   "source": [
    "clf = GradientBoostingRegressor(n_estimators = 100, max_depth = 1, learning_rate = 0.1, criterion = 'squared_error')\n",
    "clf.fit(X_train, y_train)\n",
    "learning_curve(clf)\n",
    "print(\"MSE:\", mse(y_test, clf.predict(X_test)))\n",
    "print(\"r2_score\", r2_score(y_test, clf.predict(X_test)))"
   ]
  },
  {
   "cell_type": "markdown",
   "metadata": {
    "id": "v9EZ-Z1MwsMF",
    "nbgrader": {
     "grade": false,
     "grade_id": "cell-147a5eaca6518f8e",
     "locked": true,
     "schema_version": 3,
     "solution": false,
     "task": false
    }
   },
   "source": [
    "#### Q7: Based on the learning curve, the performance of Sklearn's gradient boosting regressor is ______ our custom gradient boosting regressor?\n",
    "<b><div style=\"text-align: right\">[UNGRADED]</div></b>\n",
    "\n",
    "---\n",
    "\n",
    "Select the best option.\n",
    "\n",
    "1. better than\n",
    "\n",
    "2. worse than\n",
    "\n",
    "3. same as\n",
    "\n",
    "\n",
    "__Task:__\n",
    "You just need to put the correct option number on the variable `correct_option7`.\n",
    "If your answer is same as, assign `correct_option7 = 3` and so on.\n"
   ]
  },
  {
   "cell_type": "code",
   "execution_count": null,
   "metadata": {
    "id": "46qOOEiywsMF",
    "nbgrader": {
     "grade": false,
     "grade_id": "cell-0504746e027897c4",
     "locked": false,
     "schema_version": 3,
     "solution": true,
     "task": false
    },
    "tags": [
     "Ex-11-Task-3"
    ]
   },
   "outputs": [],
   "source": [
    "### Ex-11-Task-3\n",
    "correct_option7 = None\n",
    "### BEGIN SOLUTION\n",
    "correct_option7 = 3\n",
    "### END SOLUTION"
   ]
  },
  {
   "cell_type": "code",
   "execution_count": null,
   "metadata": {
    "id": "_YBheC4rwsMH",
    "nbgrader": {
     "grade": true,
     "grade_id": "cell-4e6f62c6129f451d",
     "locked": true,
     "points": 0,
     "schema_version": 3,
     "solution": false,
     "task": false
    },
    "tags": [
     "Ex-11-Task-3"
    ]
   },
   "outputs": [],
   "source": [
    "assert correct_option7 is not None\n",
    "### BEGIN HIDDEN TESTS\n",
    "assert(correct_option7 == 3)\n",
    "### END HIDDEN TESTS"
   ]
  },
  {
   "cell_type": "markdown",
   "metadata": {
    "id": "O7Pq0ki3wsMJ",
    "nbgrader": {
     "grade": false,
     "grade_id": "cell-33338344697315bb",
     "locked": true,
     "schema_version": 3,
     "solution": false,
     "task": false
    }
   },
   "source": [
    "__Congratulation!!!!!!!!!!!!!__\n",
    "\n",
    "__You have completed the assignment__"
   ]
  }
 ],
 "metadata": {
  "celltoolbar": "Create Assignment",
  "colab": {
   "collapsed_sections": [
    "M46PQhAKwsKj",
    "eciMTlsjwsKo",
    "beLuCubewsLR",
    "a28anUbpwsLV",
    "lOwaWEnOwsLf",
    "FNI07SztwsLq",
    "aQNwznniwsLt",
    "bv3aMhnXwsL7",
    "v9EZ-Z1MwsMF"
   ],
   "name": "EnsembleAssignment - Instructor.ipynb",
   "provenance": []
  },
  "kernelspec": {
   "display_name": "Python 3 (ipykernel)",
   "language": "python",
   "name": "python3"
  },
  "language_info": {
   "codemirror_mode": {
    "name": "ipython",
    "version": 3
   },
   "file_extension": ".py",
   "mimetype": "text/x-python",
   "name": "python",
   "nbconvert_exporter": "python",
   "pygments_lexer": "ipython3",
   "version": "3.7.12"
  }
 },
 "nbformat": 4,
 "nbformat_minor": 1
}
